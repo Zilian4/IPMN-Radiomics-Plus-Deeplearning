{
 "cells": [
  {
   "cell_type": "code",
   "execution_count": 9,
   "metadata": {},
   "outputs": [],
   "source": [
    "import pandas as pd\n",
    "from sklearn.preprocessing import MinMaxScaler, StandardScaler\n",
    "import pandas as pd\n",
    "from sklearn.model_selection import train_test_split\n",
    "from sklearn.ensemble import RandomForestClassifier\n",
    "from sklearn.metrics import accuracy_score,roc_auc_score,classification_report,recall_score,precision_score\n",
    "from sklearn.svm import SVC\n",
    "import xgboost as xgb\n",
    "import numpy as np\n",
    "from sklearn.model_selection import KFold\n"
   ]
  },
  {
   "cell_type": "code",
   "execution_count": 24,
   "metadata": {},
   "outputs": [],
   "source": [
    "features_2d = pd.read_csv('/Users/zilianghong/Documents/GitHub/IPMN-Radiomics-Plus-Deeplearning/Data/2D_t2/all.csv')\n",
    "data = features_2d.drop(columns=['Center'])"
   ]
  },
  {
   "cell_type": "code",
   "execution_count": 56,
   "metadata": {},
   "outputs": [
    {
     "ename": "ValueError",
     "evalue": "The truth value of a DataFrame is ambiguous. Use a.empty, a.bool(), a.item(), a.any() or a.all().",
     "output_type": "error",
     "traceback": [
      "\u001b[0;31m---------------------------------------------------------------------------\u001b[0m",
      "\u001b[0;31mValueError\u001b[0m                                Traceback (most recent call last)",
      "\u001b[0;32m/var/folders/9h/n7423dz95lv3x1z3vnm52bqr0000gs/T/ipykernel_84275/1331519203.py\u001b[0m in \u001b[0;36m?\u001b[0;34m()\u001b[0m\n\u001b[1;32m      1\u001b[0m \u001b[0mcorrelation\u001b[0m \u001b[0;34m=\u001b[0m \u001b[0mdata\u001b[0m\u001b[0;34m.\u001b[0m\u001b[0miloc\u001b[0m\u001b[0;34m[\u001b[0m\u001b[0;34m:\u001b[0m\u001b[0;34m,\u001b[0m\u001b[0;36m2\u001b[0m\u001b[0;34m:\u001b[0m\u001b[0;34m]\u001b[0m\u001b[0;34m.\u001b[0m\u001b[0mcorr\u001b[0m\u001b[0;34m(\u001b[0m\u001b[0mmethod\u001b[0m\u001b[0;34m=\u001b[0m\u001b[0;34m'spearman'\u001b[0m\u001b[0;34m)\u001b[0m\u001b[0;34m\u001b[0m\u001b[0;34m\u001b[0m\u001b[0m\n\u001b[1;32m      2\u001b[0m \u001b[0;34m\u001b[0m\u001b[0m\n\u001b[1;32m      3\u001b[0m \u001b[0;31m# Select features with absolute Spearman correlation >= 0.6\u001b[0m\u001b[0;34m\u001b[0m\u001b[0;34m\u001b[0m\u001b[0m\n\u001b[0;32m----> 4\u001b[0;31m \u001b[0mselected_features\u001b[0m \u001b[0;34m=\u001b[0m \u001b[0mcorrelation\u001b[0m\u001b[0;34m[\u001b[0m\u001b[0mcorrelation\u001b[0m\u001b[0;34m.\u001b[0m\u001b[0mabs\u001b[0m\u001b[0;34m(\u001b[0m\u001b[0;34m)\u001b[0m \u001b[0;34m<=\u001b[0m \u001b[0;36m0.6\u001b[0m \u001b[0;32mand\u001b[0m \u001b[0mcorrelation\u001b[0m\u001b[0;34m.\u001b[0m\u001b[0mabs\u001b[0m\u001b[0;34m(\u001b[0m\u001b[0;34m)\u001b[0m\u001b[0;34m==\u001b[0m\u001b[0;36m1\u001b[0m\u001b[0;34m]\u001b[0m\u001b[0;34m\u001b[0m\u001b[0;34m\u001b[0m\u001b[0m\n\u001b[0m\u001b[1;32m      5\u001b[0m \u001b[0;31m# selected_data = data[selected_features\u001b[0m\u001b[0;34m\u001b[0m\u001b[0;34m\u001b[0m\u001b[0m\n",
      "\u001b[0;32m/opt/anaconda3/envs/medical-image/lib/python3.10/site-packages/pandas/core/generic.py\u001b[0m in \u001b[0;36m?\u001b[0;34m(self)\u001b[0m\n\u001b[1;32m   1575\u001b[0m     \u001b[0;34m@\u001b[0m\u001b[0mfinal\u001b[0m\u001b[0;34m\u001b[0m\u001b[0;34m\u001b[0m\u001b[0m\n\u001b[1;32m   1576\u001b[0m     \u001b[0;32mdef\u001b[0m \u001b[0m__nonzero__\u001b[0m\u001b[0;34m(\u001b[0m\u001b[0mself\u001b[0m\u001b[0;34m)\u001b[0m \u001b[0;34m->\u001b[0m \u001b[0mNoReturn\u001b[0m\u001b[0;34m:\u001b[0m\u001b[0;34m\u001b[0m\u001b[0;34m\u001b[0m\u001b[0m\n\u001b[0;32m-> 1577\u001b[0;31m         raise ValueError(\n\u001b[0m\u001b[1;32m   1578\u001b[0m             \u001b[0;34mf\"The truth value of a {type(self).__name__} is ambiguous. \"\u001b[0m\u001b[0;34m\u001b[0m\u001b[0;34m\u001b[0m\u001b[0m\n\u001b[1;32m   1579\u001b[0m             \u001b[0;34m\"Use a.empty, a.bool(), a.item(), a.any() or a.all().\"\u001b[0m\u001b[0;34m\u001b[0m\u001b[0;34m\u001b[0m\u001b[0m\n\u001b[1;32m   1580\u001b[0m         )\n",
      "\u001b[0;31mValueError\u001b[0m: The truth value of a DataFrame is ambiguous. Use a.empty, a.bool(), a.item(), a.any() or a.all()."
     ]
    }
   ],
   "source": [
    "\n",
    "correlation = data.iloc[:,2:].corr(method='spearman')"
   ]
  },
  {
   "cell_type": "code",
   "execution_count": 157,
   "metadata": {},
   "outputs": [],
   "source": [
    "\n",
    "selected_features = correlation[(correlation.abs() <= 0.6) | (correlation.abs() == 1)]\n",
    "# selected_data = data[selected_features\n",
    "for i in range(200):\n",
    "    for index in range(selected_features.shape[0]):\n",
    "        row = selected_features.iloc[index]\n",
    "        to_drop = row[row.isna()].index\n",
    "        selected_features_c_droped = selected_features.drop(labels=to_drop,axis=0)\n",
    "        selected_features_r_droped = selected_features_c_droped.drop(labels=to_drop,axis=1)\n",
    "        if selected_features_r_droped.shape[0]<selected_features.shape[0]:\n",
    "            break\n",
    "    selected_features = selected_features_r_droped"
   ]
  },
  {
   "cell_type": "code",
   "execution_count": 166,
   "metadata": {},
   "outputs": [],
   "source": [
    "selected_data = data[selected_features.index.to_list()+['Label']]"
   ]
  },
  {
   "cell_type": "code",
   "execution_count": 11,
   "metadata": {},
   "outputs": [],
   "source": [
    "def get_results(acc_list,auc_list,recall_list,precision_list):    \n",
    "    acc_list = np.array(acc_list)\n",
    "    auc_list = np.array(auc_list)\n",
    "    recall_list = np.array(recall_list)\n",
    "    precision_list = np.array(precision_list)\n",
    "    print(f'Recall, Average:{recall_list.mean():.4f}, Std:{recall_list.std():.4f}')\n",
    "    print(f'precision, Average:{precision_list.mean():.4f}, Std:{precision_list.std():.4f}')\n",
    "    print(f'Accuracy, Average:{acc_list.mean():.4f}, Std:{acc_list.std():.4f}')\n",
    "    print(f'AUC, Average:{auc_list.mean():.4f}, Std:{auc_list.std():.4f}')"
   ]
  },
  {
   "cell_type": "code",
   "execution_count": 174,
   "metadata": {},
   "outputs": [
    {
     "name": "stderr",
     "output_type": "stream",
     "text": [
      "/opt/anaconda3/envs/medical-image/lib/python3.10/site-packages/sklearn/base.py:1473: DataConversionWarning: A column-vector y was passed when a 1d array was expected. Please change the shape of y to (n_samples,), for example using ravel().\n",
      "  return fit_method(estimator, *args, **kwargs)\n",
      "/opt/anaconda3/envs/medical-image/lib/python3.10/site-packages/sklearn/base.py:1473: DataConversionWarning: A column-vector y was passed when a 1d array was expected. Please change the shape of y to (n_samples,), for example using ravel().\n",
      "  return fit_method(estimator, *args, **kwargs)\n",
      "/opt/anaconda3/envs/medical-image/lib/python3.10/site-packages/sklearn/base.py:1473: DataConversionWarning: A column-vector y was passed when a 1d array was expected. Please change the shape of y to (n_samples,), for example using ravel().\n",
      "  return fit_method(estimator, *args, **kwargs)\n",
      "/opt/anaconda3/envs/medical-image/lib/python3.10/site-packages/sklearn/base.py:1473: DataConversionWarning: A column-vector y was passed when a 1d array was expected. Please change the shape of y to (n_samples,), for example using ravel().\n",
      "  return fit_method(estimator, *args, **kwargs)\n",
      "/opt/anaconda3/envs/medical-image/lib/python3.10/site-packages/sklearn/base.py:1473: DataConversionWarning: A column-vector y was passed when a 1d array was expected. Please change the shape of y to (n_samples,), for example using ravel().\n",
      "  return fit_method(estimator, *args, **kwargs)\n"
     ]
    },
    {
     "name": "stdout",
     "output_type": "stream",
     "text": [
      "Validation set\n",
      "Recall, Average:0.8391, Std:0.0398\n",
      "precision, Average:0.7149, Std:0.0304\n",
      "Accuracy, Average:0.7010, Std:0.0323\n",
      "AUC, Average:0.6646, Std:0.0383\n",
      "================================================\n"
     ]
    }
   ],
   "source": [
    "val_acc_list = []\n",
    "val_auc_list = []\n",
    "val_recall_list = []\n",
    "val_precision_list = []\n",
    "\n",
    "test_acc_list = []\n",
    "test_auc_list = []\n",
    "test_recall_list = []\n",
    "test_precision_list = []\n",
    "\n",
    "kf = KFold(n_splits=5, shuffle=True, random_state=42)\n",
    "for fold, (train_index, test_index) in enumerate(kf.split(selected_data)):\n",
    "    train_data = selected_data.iloc[train_index]\n",
    "    val_data = selected_data.iloc[test_index]\n",
    "    # print(train_data.shape)\n",
    "    train_y = train_data[['Label']]\n",
    "    train_x = train_data.iloc[:,:-1]\n",
    "    \n",
    "    val_y = val_data[['Label']]\n",
    "    val_x = val_data.iloc[:,:-1]\n",
    "\n",
    "    standard_scaler = StandardScaler()\n",
    "    train_x = standard_scaler.fit_transform(train_x)\n",
    "    val_x = standard_scaler.transform(val_x)\n",
    "\n",
    "    model = RandomForestClassifier(n_estimators=100, random_state=42)\n",
    "    # Train the model with validation data\n",
    "    model.fit(train_x, train_y)\n",
    "    \n",
    "    y_pred_proba = model.predict(val_x)  # Get probabilities for the positive class\n",
    "    y_pred = model.predict(val_x)\n",
    "\n",
    "    accuracy = accuracy_score(val_y, y_pred)\n",
    "    # print(f'Accuracy: {accuracy:.4f}')\n",
    "    val_acc_list.append(accuracy)\n",
    "    \n",
    "    auc_score = roc_auc_score(val_y, y_pred_proba)\n",
    "    # print(f'AUC Score: {auc_score:.4f}')\n",
    "    val_auc_list.append(auc_score)\n",
    "    \n",
    "    # Print the classification report\n",
    "    recall = recall_score(val_y, y_pred)\n",
    "    # print(f'Recall Score: {recall:.4f}')\n",
    "    val_recall_list.append(recall)\n",
    "    \n",
    "    precision = precision_score(val_y, y_pred)\n",
    "    # print(f'AUC Score: {precision:.4f}')\n",
    "    val_precision_list.append(precision)\n",
    "    \n",
    "print('Validation set')\n",
    "get_results(val_acc_list,val_auc_list,val_recall_list,val_precision_list)\n",
    "# print('--------------------')\n",
    "# print(\"Test set\")\n",
    "# get_results(test_acc_list,test_auc_list,test_recall_list,test_precision_list)\n",
    "print('================================================')"
   ]
  },
  {
   "cell_type": "code",
   "execution_count": 12,
   "metadata": {},
   "outputs": [
    {
     "name": "stdout",
     "output_type": "stream",
     "text": [
      "Taining Fold1 .....\n"
     ]
    },
    {
     "name": "stderr",
     "output_type": "stream",
     "text": [
      "f:\\Anaconda3\\envs\\radiomics\\lib\\site-packages\\ipykernel_launcher.py:38: DataConversionWarning: A column-vector y was passed when a 1d array was expected. Please change the shape of y to (n_samples,), for example using ravel().\n"
     ]
    },
    {
     "name": "stdout",
     "output_type": "stream",
     "text": [
      "Taining Fold2 .....\n"
     ]
    },
    {
     "name": "stderr",
     "output_type": "stream",
     "text": [
      "f:\\Anaconda3\\envs\\radiomics\\lib\\site-packages\\ipykernel_launcher.py:38: DataConversionWarning: A column-vector y was passed when a 1d array was expected. Please change the shape of y to (n_samples,), for example using ravel().\n"
     ]
    },
    {
     "name": "stdout",
     "output_type": "stream",
     "text": [
      "Taining Fold3 .....\n"
     ]
    },
    {
     "name": "stderr",
     "output_type": "stream",
     "text": [
      "f:\\Anaconda3\\envs\\radiomics\\lib\\site-packages\\ipykernel_launcher.py:38: DataConversionWarning: A column-vector y was passed when a 1d array was expected. Please change the shape of y to (n_samples,), for example using ravel().\n"
     ]
    },
    {
     "name": "stdout",
     "output_type": "stream",
     "text": [
      "Taining Fold4 .....\n"
     ]
    },
    {
     "name": "stderr",
     "output_type": "stream",
     "text": [
      "f:\\Anaconda3\\envs\\radiomics\\lib\\site-packages\\ipykernel_launcher.py:38: DataConversionWarning: A column-vector y was passed when a 1d array was expected. Please change the shape of y to (n_samples,), for example using ravel().\n"
     ]
    },
    {
     "name": "stdout",
     "output_type": "stream",
     "text": [
      "Taining Fold5 .....\n"
     ]
    },
    {
     "name": "stderr",
     "output_type": "stream",
     "text": [
      "f:\\Anaconda3\\envs\\radiomics\\lib\\site-packages\\ipykernel_launcher.py:38: DataConversionWarning: A column-vector y was passed when a 1d array was expected. Please change the shape of y to (n_samples,), for example using ravel().\n"
     ]
    },
    {
     "name": "stdout",
     "output_type": "stream",
     "text": [
      "Validation set\n",
      "Recall, Average:0.5908, Std:0.0988\n",
      "precision, Average:0.6568, Std:0.0757\n",
      "Accuracy, Average:0.6646, Std:0.0444\n",
      "AUC, Average:0.6617, Std:0.0441\n",
      "--------------------\n",
      "Test set\n",
      "Recall, Average:0.7833, Std:0.0408\n",
      "precision, Average:0.6450, Std:0.0380\n",
      "Accuracy, Average:0.7706, Std:0.0288\n",
      "AUC, Average:0.7735, Std:0.0293\n",
      "================================================\n"
     ]
    }
   ],
   "source": [
    "val_acc_list = []\n",
    "val_auc_list = []\n",
    "val_recall_list = []\n",
    "val_precision_list = []\n",
    "\n",
    "test_acc_list = []\n",
    "test_auc_list = []\n",
    "test_recall_list = []\n",
    "test_precision_list = []\n",
    "for fold in range(5):\n",
    "        \n",
    "    print(f\"Taining Fold{fold+1} .....\")\n",
    "    test_file = file['test_split']\n",
    "    train_file = file['cross_validation'][fold]['train_files']\n",
    "    val_file = file['cross_validation'][fold]['validation_files']\n",
    "    \n",
    "    data = pd.read_csv(r'F:\\Myproject\\ISBI-Lung-project\\Lung_data.csv')\n",
    "    tarin_data = data[data['Image'].isin(train_file)]\n",
    "    val_data = data[data['Image'].isin(val_file)]\n",
    "    test_data = data[data['Image'].isin(test_file)]\n",
    "\n",
    "    train_x = tarin_data.iloc[:,:-2]\n",
    "    train_y = tarin_data[[\"label\"]]\n",
    "\n",
    "    val_x = val_data.iloc[:,:-2]\n",
    "    val_y = val_data[[\"label\"]]\n",
    "\n",
    "    # test_x = test_data.iloc[:,:-2]\n",
    "    # test_y = test_data[[\"label\"]]\n",
    "    \n",
    "    standard_scaler = StandardScaler()\n",
    "    train_x = standard_scaler.fit_transform(train_x)\n",
    "    val_x = standard_scaler.transform(val_x)\n",
    "    # test_x = standard_scaler.transform(test_x)\n",
    "\n",
    "    model = RandomForestClassifier(n_estimators=100, random_state=42)\n",
    "    # Train the model with validation data\n",
    "    model.fit(train_x, train_y)\n",
    "    \n",
    "    \n",
    "    \n",
    "    # -------------------validation----------------\n",
    "    y_pred_proba = model.predict(val_x)  # Get probabilities for the positive class\n",
    "    y_pred = model.predict(val_x)\n",
    "\n",
    "    accuracy = accuracy_score(val_y, y_pred)\n",
    "    # print(f'Accuracy: {accuracy:.4f}')\n",
    "    val_acc_list.append(accuracy)\n",
    "    \n",
    "    auc_score = roc_auc_score(val_y, y_pred_proba)\n",
    "    # print(f'AUC Score: {auc_score:.4f}')\n",
    "    val_auc_list.append(auc_score)\n",
    "    \n",
    "    # Print the classification report\n",
    "    recall = recall_score(val_y, y_pred)\n",
    "    # print(f'Recall Score: {recall:.4f}')\n",
    "    val_recall_list.append(recall)\n",
    "    \n",
    "    precision = precision_score(val_y, y_pred)\n",
    "    # print(f'AUC Score: {precision:.4f}')\n",
    "    val_precision_list.append(precision)\n",
    "    \n",
    "    \n",
    "    # Get predicted probabilities\n",
    "    # -------------------testing--------------\n",
    "    # y_pred_proba = model.predict(test_x)  # Get probabilities for the positive class\n",
    "    # y_pred = model.predict(test_x)\n",
    "\n",
    "    # accuracy = accuracy_score(test_y, y_pred)\n",
    "    # # print(f'Accuracy: {accuracy:.4f}')\n",
    "    # test_acc_list.append(accuracy)\n",
    "    \n",
    "    # auc_score = roc_auc_score(test_y, y_pred_proba)\n",
    "    # # print(f'AUC Score: {auc_score:.4f}')\n",
    "    # test_auc_list.append(auc_score)\n",
    "    \n",
    "    # # Print the classification report\n",
    "    # recall = recall_score(test_y, y_pred)\n",
    "    # # print(f'Recall Score: {recall:.4f}')\n",
    "    # test_recall_list.append(recall)\n",
    "    \n",
    "    # precision = precision_score(test_y, y_pred)\n",
    "    # # print(f'AUC Score: {precision:.4f}')\n",
    "    # test_precision_list.append(precision)\n",
    "    \n",
    "print('Validation set')\n",
    "get_results(val_acc_list,val_auc_list,val_recall_list,val_precision_list)\n",
    "print('--------------------')\n",
    "# print(\"Test set\")\n",
    "# get_results(test_acc_list,test_auc_list,test_recall_list,test_precision_list)\n",
    "print('================================================')\n",
    "\n",
    "    "
   ]
  }
 ],
 "metadata": {
  "kernelspec": {
   "display_name": "radiomics",
   "language": "python",
   "name": "python3"
  },
  "language_info": {
   "codemirror_mode": {
    "name": "ipython",
    "version": 3
   },
   "file_extension": ".py",
   "mimetype": "text/x-python",
   "name": "python",
   "nbconvert_exporter": "python",
   "pygments_lexer": "ipython3",
   "version": "3.10.15"
  }
 },
 "nbformat": 4,
 "nbformat_minor": 2
}

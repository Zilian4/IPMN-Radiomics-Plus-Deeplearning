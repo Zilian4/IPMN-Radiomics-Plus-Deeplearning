{
 "cells": [
  {
   "cell_type": "code",
   "execution_count": 3,
   "metadata": {},
   "outputs": [],
   "source": [
    "import pandas as pd\n",
    "from sklearn.preprocessing import MinMaxScaler, StandardScaler\n",
    "import pandas as pd\n",
    "from sklearn.model_selection import train_test_split\n",
    "from sklearn.ensemble import RandomForestClassifier\n",
    "from sklearn.metrics import accuracy_score,roc_auc_score,classification_report,recall_score,precision_score\n",
    "from sklearn.svm import SVC\n",
    "import numpy as np\n",
    "from sklearn.model_selection import KFold\n",
    "import json\n",
    "from joblib import dump, load\n",
    "from sklearn.model_selection import cross_val_score\n",
    "from mrmr import mrmr_classif\n",
    "from collections import Counter\n",
    "import  matplotlib.pyplot as plt\n"
   ]
  },
  {
   "cell_type": "code",
   "execution_count": 4,
   "metadata": {},
   "outputs": [],
   "source": [
    "data = pd.read_csv('./Data/2D_t2/all.csv')\n",
    "data[\"Label\"] = data['Label'].apply(lambda x: x-1)\n",
    "features = data.drop(columns=['Center','Name'])"
   ]
  },
  {
   "cell_type": "code",
   "execution_count": 5,
   "metadata": {},
   "outputs": [],
   "source": [
    "spearman_corr = features.corr(method='spearman')"
   ]
  },
  {
   "cell_type": "code",
   "execution_count": 8,
   "metadata": {},
   "outputs": [],
   "source": [
    "abs_corr = spearman_corr.abs()\n",
    "upper_tri = abs_corr.where(~np.tril(np.ones(abs_corr.shape)).astype(bool))\n",
    "to_drop = [column for column in upper_tri.columns if any(upper_tri[column] > 0.6)]\n",
    "data_spcf = data.drop(columns=to_drop)"
   ]
  },
  {
   "cell_type": "markdown",
   "metadata": {},
   "source": [
    "Apply T4: train = [AHN EMC IU MCA MCF NU], test=[NYU]"
   ]
  },
  {
   "cell_type": "code",
   "execution_count": 9,
   "metadata": {},
   "outputs": [],
   "source": [
    "def get_results(acc_list,auc_list,recall_list,precision_list):    \n",
    "    acc_list = np.array(acc_list)\n",
    "    auc_list = np.array(auc_list)\n",
    "    recall_list = np.array(recall_list)\n",
    "    precision_list = np.array(precision_list)\n",
    "    print(f'Recall, Average:{recall_list.mean():.4f}, Std:{recall_list.std():.4f}')\n",
    "    print(f'precision, Average:{precision_list.mean():.4f}, Std:{precision_list.std():.4f}')\n",
    "    print(f'Accuracy, Average:{acc_list.mean():.4f}, Std:{acc_list.std():.4f}')\n",
    "    print(f'AUC, Average:{auc_list.mean():.4f}, Std:{auc_list.std():.4f}')\n",
    "    return auc_list.mean()"
   ]
  },
  {
   "cell_type": "code",
   "execution_count": 13,
   "metadata": {},
   "outputs": [],
   "source": [
    "train_center_data = data[data['Center'].isin(['AHN', 'EMC', 'IU', 'MCA', 'MCF', 'NU'])]\n",
    "test_center_data = data[data['Center'].isin(['NYU'])]"
   ]
  },
  {
   "cell_type": "code",
   "execution_count": 10,
   "metadata": {},
   "outputs": [],
   "source": [
    "train_center_data = data_spcf[data_spcf['Center'].isin(['AHN', 'EMC', 'IU', 'MCA', 'MCF', 'NU'])]\n",
    "test_center_data = data_spcf[data_spcf['Center'].isin(['NYU'])]"
   ]
  },
  {
   "cell_type": "code",
   "execution_count": 155,
   "metadata": {},
   "outputs": [
    {
     "name": "stderr",
     "output_type": "stream",
     "text": [
      "100%|██████████| 2/2 [00:00<00:00, 47.36it/s]\n",
      "100%|██████████| 2/2 [00:00<00:00, 53.22it/s]\n",
      "100%|██████████| 2/2 [00:00<00:00, 47.19it/s]\n",
      "100%|██████████| 2/2 [00:00<00:00, 50.69it/s]\n",
      "100%|██████████| 2/2 [00:00<00:00, 41.20it/s]\n"
     ]
    },
    {
     "name": "stdout",
     "output_type": "stream",
     "text": [
      "Validation set\n",
      "Recall, Average:0.4249, Std:0.1033\n",
      "precision, Average:0.4968, Std:0.1361\n",
      "Accuracy, Average:0.5685, Std:0.0828\n",
      "AUC, Average:0.5536, Std:0.0764\n",
      "--------------------\n"
     ]
    },
    {
     "name": "stderr",
     "output_type": "stream",
     "text": [
      "100%|██████████| 3/3 [00:00<00:00, 39.23it/s]\n",
      "100%|██████████| 3/3 [00:00<00:00, 37.98it/s]\n",
      "100%|██████████| 3/3 [00:00<00:00, 36.20it/s]\n",
      "100%|██████████| 3/3 [00:00<00:00, 38.80it/s]\n",
      "100%|██████████| 3/3 [00:00<00:00, 40.73it/s]\n"
     ]
    },
    {
     "name": "stdout",
     "output_type": "stream",
     "text": [
      "Validation set\n",
      "Recall, Average:0.4338, Std:0.0888\n",
      "precision, Average:0.5107, Std:0.1229\n",
      "Accuracy, Average:0.5822, Std:0.0626\n",
      "AUC, Average:0.5653, Std:0.0591\n",
      "--------------------\n"
     ]
    },
    {
     "name": "stderr",
     "output_type": "stream",
     "text": [
      "100%|██████████| 4/4 [00:00<00:00, 34.61it/s]\n",
      "100%|██████████| 4/4 [00:00<00:00, 37.59it/s]\n",
      "100%|██████████| 4/4 [00:00<00:00, 37.30it/s]\n",
      "100%|██████████| 4/4 [00:00<00:00, 35.89it/s]\n",
      "100%|██████████| 4/4 [00:00<00:00, 37.30it/s]\n"
     ]
    },
    {
     "name": "stdout",
     "output_type": "stream",
     "text": [
      "Validation set\n",
      "Recall, Average:0.4366, Std:0.0811\n",
      "precision, Average:0.5075, Std:0.1095\n",
      "Accuracy, Average:0.5798, Std:0.0619\n",
      "AUC, Average:0.5631, Std:0.0554\n",
      "--------------------\n"
     ]
    },
    {
     "name": "stderr",
     "output_type": "stream",
     "text": [
      "100%|██████████| 5/5 [00:00<00:00, 33.64it/s]\n",
      "100%|██████████| 5/5 [00:00<00:00, 33.23it/s]\n",
      "100%|██████████| 5/5 [00:00<00:00, 32.45it/s]\n",
      "100%|██████████| 5/5 [00:00<00:00, 33.42it/s]\n",
      "100%|██████████| 5/5 [00:00<00:00, 33.29it/s]\n"
     ]
    },
    {
     "name": "stdout",
     "output_type": "stream",
     "text": [
      "Validation set\n",
      "Recall, Average:0.4557, Std:0.0893\n",
      "precision, Average:0.5172, Std:0.1216\n",
      "Accuracy, Average:0.5875, Std:0.0711\n",
      "AUC, Average:0.5715, Std:0.0669\n",
      "--------------------\n"
     ]
    },
    {
     "name": "stderr",
     "output_type": "stream",
     "text": [
      "100%|██████████| 6/6 [00:00<00:00, 31.39it/s]\n",
      "100%|██████████| 6/6 [00:00<00:00, 30.96it/s]\n",
      "100%|██████████| 6/6 [00:00<00:00, 33.23it/s]\n",
      "100%|██████████| 6/6 [00:00<00:00, 31.19it/s]\n",
      "100%|██████████| 6/6 [00:00<00:00, 25.84it/s]\n"
     ]
    },
    {
     "name": "stdout",
     "output_type": "stream",
     "text": [
      "Validation set\n",
      "Recall, Average:0.4607, Std:0.0906\n",
      "precision, Average:0.5207, Std:0.1259\n",
      "Accuracy, Average:0.5914, Std:0.0753\n",
      "AUC, Average:0.5745, Std:0.0725\n",
      "--------------------\n"
     ]
    },
    {
     "name": "stderr",
     "output_type": "stream",
     "text": [
      "100%|██████████| 7/7 [00:00<00:00, 30.74it/s]\n",
      "100%|██████████| 7/7 [00:00<00:00, 20.97it/s]\n",
      "100%|██████████| 7/7 [00:00<00:00, 32.17it/s]\n",
      "100%|██████████| 7/7 [00:00<00:00, 32.63it/s]\n",
      "100%|██████████| 7/7 [00:00<00:00, 29.61it/s]\n"
     ]
    },
    {
     "name": "stdout",
     "output_type": "stream",
     "text": [
      "Validation set\n",
      "Recall, Average:0.4660, Std:0.0899\n",
      "precision, Average:0.5273, Std:0.1347\n",
      "Accuracy, Average:0.5957, Std:0.0782\n",
      "AUC, Average:0.5790, Std:0.0768\n",
      "--------------------\n"
     ]
    },
    {
     "name": "stderr",
     "output_type": "stream",
     "text": [
      "100%|██████████| 8/8 [00:00<00:00, 31.22it/s]\n",
      "100%|██████████| 8/8 [00:00<00:00, 28.16it/s]\n",
      "100%|██████████| 8/8 [00:00<00:00, 27.61it/s]\n",
      "100%|██████████| 8/8 [00:00<00:00, 30.84it/s]\n",
      "100%|██████████| 8/8 [00:00<00:00, 27.15it/s]\n"
     ]
    },
    {
     "name": "stdout",
     "output_type": "stream",
     "text": [
      "Validation set\n",
      "Recall, Average:0.4719, Std:0.0948\n",
      "precision, Average:0.5350, Std:0.1452\n",
      "Accuracy, Average:0.6013, Std:0.0837\n",
      "AUC, Average:0.5841, Std:0.0832\n",
      "--------------------\n"
     ]
    },
    {
     "name": "stderr",
     "output_type": "stream",
     "text": [
      "100%|██████████| 9/9 [00:00<00:00, 31.17it/s]\n",
      "100%|██████████| 9/9 [00:00<00:00, 30.06it/s]\n",
      "100%|██████████| 9/9 [00:00<00:00, 27.19it/s]\n",
      "100%|██████████| 9/9 [00:00<00:00, 28.61it/s]\n",
      "100%|██████████| 9/9 [00:00<00:00, 30.41it/s]\n"
     ]
    },
    {
     "name": "stdout",
     "output_type": "stream",
     "text": [
      "Validation set\n",
      "Recall, Average:0.4737, Std:0.1012\n",
      "precision, Average:0.5423, Std:0.1574\n",
      "Accuracy, Average:0.6064, Std:0.0883\n",
      "AUC, Average:0.5884, Std:0.0900\n",
      "--------------------\n"
     ]
    },
    {
     "name": "stderr",
     "output_type": "stream",
     "text": [
      "100%|██████████| 10/10 [00:00<00:00, 30.74it/s]\n",
      "100%|██████████| 10/10 [00:00<00:00, 30.22it/s]\n",
      "100%|██████████| 10/10 [00:00<00:00, 31.08it/s]\n",
      "100%|██████████| 10/10 [00:00<00:00, 25.96it/s]\n",
      "100%|██████████| 10/10 [00:00<00:00, 32.00it/s]\n"
     ]
    },
    {
     "name": "stdout",
     "output_type": "stream",
     "text": [
      "Validation set\n",
      "Recall, Average:0.4749, Std:0.1048\n",
      "precision, Average:0.5429, Std:0.1592\n",
      "Accuracy, Average:0.6083, Std:0.0872\n",
      "AUC, Average:0.5896, Std:0.0906\n",
      "--------------------\n"
     ]
    },
    {
     "name": "stderr",
     "output_type": "stream",
     "text": [
      "100%|██████████| 11/11 [00:00<00:00, 30.71it/s]\n",
      "100%|██████████| 11/11 [00:00<00:00, 30.56it/s]\n",
      "100%|██████████| 11/11 [00:00<00:00, 29.67it/s]\n",
      "100%|██████████| 11/11 [00:00<00:00, 32.88it/s]\n",
      "100%|██████████| 11/11 [00:00<00:00, 30.67it/s]\n"
     ]
    },
    {
     "name": "stdout",
     "output_type": "stream",
     "text": [
      "Validation set\n",
      "Recall, Average:0.4736, Std:0.1014\n",
      "precision, Average:0.5488, Std:0.1607\n",
      "Accuracy, Average:0.6117, Std:0.0863\n",
      "AUC, Average:0.5923, Std:0.0895\n",
      "--------------------\n"
     ]
    },
    {
     "name": "stderr",
     "output_type": "stream",
     "text": [
      "100%|██████████| 12/12 [00:00<00:00, 31.31it/s]\n",
      "100%|██████████| 12/12 [00:00<00:00, 30.41it/s]\n",
      "100%|██████████| 12/12 [00:00<00:00, 30.53it/s]\n",
      "100%|██████████| 12/12 [00:00<00:00, 30.65it/s]\n",
      "100%|██████████| 12/12 [00:00<00:00, 29.92it/s]\n"
     ]
    },
    {
     "name": "stdout",
     "output_type": "stream",
     "text": [
      "Validation set\n",
      "Recall, Average:0.4684, Std:0.1002\n",
      "precision, Average:0.5503, Std:0.1613\n",
      "Accuracy, Average:0.6119, Std:0.0859\n",
      "AUC, Average:0.5919, Std:0.0885\n",
      "--------------------\n"
     ]
    },
    {
     "name": "stderr",
     "output_type": "stream",
     "text": [
      "100%|██████████| 13/13 [00:00<00:00, 28.47it/s]\n",
      "100%|██████████| 13/13 [00:00<00:00, 21.60it/s]\n",
      "100%|██████████| 13/13 [00:00<00:00, 29.90it/s]\n",
      "100%|██████████| 13/13 [00:00<00:00, 30.55it/s]\n",
      "100%|██████████| 13/13 [00:00<00:00, 30.93it/s]\n"
     ]
    },
    {
     "name": "stdout",
     "output_type": "stream",
     "text": [
      "Validation set\n",
      "Recall, Average:0.4641, Std:0.1027\n",
      "precision, Average:0.5492, Std:0.1613\n",
      "Accuracy, Average:0.6109, Std:0.0858\n",
      "AUC, Average:0.5906, Std:0.0887\n",
      "--------------------\n"
     ]
    },
    {
     "name": "stderr",
     "output_type": "stream",
     "text": [
      "100%|██████████| 14/14 [00:00<00:00, 28.34it/s]\n",
      "100%|██████████| 14/14 [00:00<00:00, 28.17it/s]\n",
      "100%|██████████| 14/14 [00:00<00:00, 26.77it/s]\n",
      "100%|██████████| 14/14 [00:00<00:00, 29.25it/s]\n",
      "100%|██████████| 14/14 [00:00<00:00, 28.09it/s]\n"
     ]
    },
    {
     "name": "stdout",
     "output_type": "stream",
     "text": [
      "Validation set\n",
      "Recall, Average:0.4669, Std:0.1023\n",
      "precision, Average:0.5559, Std:0.1641\n",
      "Accuracy, Average:0.6149, Std:0.0863\n",
      "AUC, Average:0.5944, Std:0.0892\n",
      "--------------------\n"
     ]
    },
    {
     "name": "stderr",
     "output_type": "stream",
     "text": [
      "100%|██████████| 15/15 [00:00<00:00, 29.81it/s]\n",
      "100%|██████████| 15/15 [00:00<00:00, 29.64it/s]\n",
      "100%|██████████| 15/15 [00:00<00:00, 26.66it/s]\n",
      "100%|██████████| 15/15 [00:00<00:00, 28.35it/s]\n",
      "100%|██████████| 15/15 [00:00<00:00, 30.86it/s]\n"
     ]
    },
    {
     "name": "stdout",
     "output_type": "stream",
     "text": [
      "Validation set\n",
      "Recall, Average:0.4685, Std:0.1016\n",
      "precision, Average:0.5593, Std:0.1654\n",
      "Accuracy, Average:0.6170, Std:0.0863\n",
      "AUC, Average:0.5964, Std:0.0893\n",
      "--------------------\n"
     ]
    },
    {
     "name": "stderr",
     "output_type": "stream",
     "text": [
      "100%|██████████| 16/16 [00:00<00:00, 28.18it/s]\n",
      "100%|██████████| 16/16 [00:00<00:00, 28.82it/s]\n",
      "100%|██████████| 16/16 [00:00<00:00, 29.92it/s]\n",
      "100%|██████████| 16/16 [00:00<00:00, 28.90it/s]\n",
      "100%|██████████| 16/16 [00:00<00:00, 28.96it/s]\n"
     ]
    },
    {
     "name": "stdout",
     "output_type": "stream",
     "text": [
      "Validation set\n",
      "Recall, Average:0.4691, Std:0.1023\n",
      "precision, Average:0.5633, Std:0.1682\n",
      "Accuracy, Average:0.6198, Std:0.0866\n",
      "AUC, Average:0.5987, Std:0.0902\n",
      "--------------------\n"
     ]
    },
    {
     "name": "stderr",
     "output_type": "stream",
     "text": [
      "100%|██████████| 17/17 [00:00<00:00, 29.80it/s]\n",
      "100%|██████████| 17/17 [00:00<00:00, 27.91it/s]\n",
      "100%|██████████| 17/17 [00:00<00:00, 29.20it/s]\n",
      "100%|██████████| 17/17 [00:00<00:00, 27.25it/s]\n",
      "100%|██████████| 17/17 [00:00<00:00, 29.57it/s]\n"
     ]
    },
    {
     "name": "stdout",
     "output_type": "stream",
     "text": [
      "Validation set\n",
      "Recall, Average:0.4681, Std:0.1010\n",
      "precision, Average:0.5652, Std:0.1689\n",
      "Accuracy, Average:0.6203, Std:0.0863\n",
      "AUC, Average:0.5991, Std:0.0899\n",
      "--------------------\n"
     ]
    },
    {
     "name": "stderr",
     "output_type": "stream",
     "text": [
      "100%|██████████| 18/18 [00:00<00:00, 27.77it/s]\n",
      "100%|██████████| 18/18 [00:00<00:00, 30.28it/s]\n",
      "100%|██████████| 18/18 [00:00<00:00, 28.26it/s]\n",
      "100%|██████████| 18/18 [00:00<00:00, 29.11it/s]\n",
      "100%|██████████| 18/18 [00:00<00:00, 28.61it/s]\n"
     ]
    },
    {
     "name": "stdout",
     "output_type": "stream",
     "text": [
      "Validation set\n",
      "Recall, Average:0.4674, Std:0.1030\n",
      "precision, Average:0.5662, Std:0.1705\n",
      "Accuracy, Average:0.6212, Std:0.0866\n",
      "AUC, Average:0.5997, Std:0.0909\n",
      "--------------------\n"
     ]
    },
    {
     "name": "stderr",
     "output_type": "stream",
     "text": [
      "100%|██████████| 19/19 [00:00<00:00, 28.32it/s]\n",
      "100%|██████████| 19/19 [00:00<00:00, 28.06it/s]\n",
      "100%|██████████| 19/19 [00:00<00:00, 26.94it/s]\n",
      "100%|██████████| 19/19 [00:00<00:00, 28.96it/s]\n",
      "100%|██████████| 19/19 [00:00<00:00, 29.56it/s]\n"
     ]
    },
    {
     "name": "stdout",
     "output_type": "stream",
     "text": [
      "Validation set\n",
      "Recall, Average:0.4687, Std:0.1020\n",
      "precision, Average:0.5674, Std:0.1702\n",
      "Accuracy, Average:0.6221, Std:0.0860\n",
      "AUC, Average:0.6007, Std:0.0905\n",
      "--------------------\n"
     ]
    },
    {
     "name": "stderr",
     "output_type": "stream",
     "text": [
      "100%|██████████| 20/20 [00:00<00:00, 30.32it/s]\n",
      "100%|██████████| 20/20 [00:00<00:00, 29.62it/s]\n",
      "100%|██████████| 20/20 [00:00<00:00, 29.46it/s]\n",
      "100%|██████████| 20/20 [00:00<00:00, 29.86it/s]\n",
      "100%|██████████| 20/20 [00:00<00:00, 29.68it/s]\n"
     ]
    },
    {
     "name": "stdout",
     "output_type": "stream",
     "text": [
      "Validation set\n",
      "Recall, Average:0.4698, Std:0.1011\n",
      "precision, Average:0.5685, Std:0.1711\n",
      "Accuracy, Average:0.6228, Std:0.0861\n",
      "AUC, Average:0.6015, Std:0.0907\n",
      "--------------------\n"
     ]
    },
    {
     "name": "stderr",
     "output_type": "stream",
     "text": [
      "100%|██████████| 21/21 [00:00<00:00, 27.08it/s]\n",
      "100%|██████████| 21/21 [00:00<00:00, 29.76it/s]\n",
      "100%|██████████| 21/21 [00:00<00:00, 28.55it/s]\n",
      "100%|██████████| 21/21 [00:00<00:00, 29.86it/s]\n",
      "100%|██████████| 21/21 [00:00<00:00, 30.75it/s]\n"
     ]
    },
    {
     "name": "stdout",
     "output_type": "stream",
     "text": [
      "Validation set\n",
      "Recall, Average:0.4703, Std:0.1008\n",
      "precision, Average:0.5709, Std:0.1734\n",
      "Accuracy, Average:0.6240, Std:0.0865\n",
      "AUC, Average:0.6026, Std:0.0911\n",
      "--------------------\n"
     ]
    },
    {
     "name": "stderr",
     "output_type": "stream",
     "text": [
      "100%|██████████| 22/22 [00:00<00:00, 31.26it/s]\n",
      "100%|██████████| 22/22 [00:00<00:00, 27.83it/s]\n",
      "100%|██████████| 22/22 [00:00<00:00, 29.62it/s]\n",
      "100%|██████████| 22/22 [00:00<00:00, 28.01it/s]\n",
      "100%|██████████| 22/22 [00:00<00:00, 28.24it/s]\n"
     ]
    },
    {
     "name": "stdout",
     "output_type": "stream",
     "text": [
      "Validation set\n",
      "Recall, Average:0.4714, Std:0.1013\n",
      "precision, Average:0.5727, Std:0.1746\n",
      "Accuracy, Average:0.6250, Std:0.0869\n",
      "AUC, Average:0.6037, Std:0.0917\n",
      "--------------------\n"
     ]
    },
    {
     "name": "stderr",
     "output_type": "stream",
     "text": [
      "100%|██████████| 23/23 [00:00<00:00, 28.97it/s]\n",
      "100%|██████████| 23/23 [00:00<00:00, 30.03it/s]\n",
      "100%|██████████| 23/23 [00:00<00:00, 29.41it/s]\n",
      "100%|██████████| 23/23 [00:00<00:00, 30.14it/s]\n",
      "100%|██████████| 23/23 [00:00<00:00, 31.25it/s]\n"
     ]
    },
    {
     "name": "stdout",
     "output_type": "stream",
     "text": [
      "Validation set\n",
      "Recall, Average:0.4727, Std:0.1013\n",
      "precision, Average:0.5745, Std:0.1755\n",
      "Accuracy, Average:0.6263, Std:0.0873\n",
      "AUC, Average:0.6050, Std:0.0923\n",
      "--------------------\n"
     ]
    },
    {
     "name": "stderr",
     "output_type": "stream",
     "text": [
      "100%|██████████| 24/24 [00:00<00:00, 29.45it/s]\n",
      "100%|██████████| 24/24 [00:00<00:00, 29.35it/s]\n",
      "100%|██████████| 24/24 [00:00<00:00, 26.64it/s]\n",
      "100%|██████████| 24/24 [00:00<00:00, 25.59it/s]\n",
      "100%|██████████| 24/24 [00:00<00:00, 29.35it/s]\n"
     ]
    },
    {
     "name": "stdout",
     "output_type": "stream",
     "text": [
      "Validation set\n",
      "Recall, Average:0.4732, Std:0.1003\n",
      "precision, Average:0.5764, Std:0.1756\n",
      "Accuracy, Average:0.6275, Std:0.0867\n",
      "AUC, Average:0.6062, Std:0.0918\n",
      "--------------------\n"
     ]
    },
    {
     "name": "stderr",
     "output_type": "stream",
     "text": [
      "100%|██████████| 25/25 [00:00<00:00, 26.93it/s]\n",
      "100%|██████████| 25/25 [00:00<00:00, 28.99it/s]\n",
      "100%|██████████| 25/25 [00:00<00:00, 29.89it/s]\n",
      "100%|██████████| 25/25 [00:00<00:00, 28.92it/s]\n",
      "100%|██████████| 25/25 [00:00<00:00, 28.73it/s]\n"
     ]
    },
    {
     "name": "stdout",
     "output_type": "stream",
     "text": [
      "Validation set\n",
      "Recall, Average:0.4724, Std:0.1000\n",
      "precision, Average:0.5773, Std:0.1768\n",
      "Accuracy, Average:0.6280, Std:0.0864\n",
      "AUC, Average:0.6064, Std:0.0919\n",
      "--------------------\n"
     ]
    },
    {
     "name": "stderr",
     "output_type": "stream",
     "text": [
      "100%|██████████| 26/26 [00:00<00:00, 30.02it/s]\n",
      "100%|██████████| 26/26 [00:01<00:00, 17.90it/s]\n",
      "100%|██████████| 26/26 [00:01<00:00, 23.94it/s]\n",
      "100%|██████████| 26/26 [00:00<00:00, 29.89it/s]\n",
      "100%|██████████| 26/26 [00:00<00:00, 29.30it/s]\n"
     ]
    },
    {
     "name": "stdout",
     "output_type": "stream",
     "text": [
      "Validation set\n",
      "Recall, Average:0.4720, Std:0.1002\n",
      "precision, Average:0.5784, Std:0.1772\n",
      "Accuracy, Average:0.6284, Std:0.0867\n",
      "AUC, Average:0.6069, Std:0.0922\n",
      "--------------------\n"
     ]
    },
    {
     "name": "stderr",
     "output_type": "stream",
     "text": [
      "100%|██████████| 27/27 [00:01<00:00, 18.41it/s]\n",
      "100%|██████████| 27/27 [00:01<00:00, 24.96it/s]\n",
      "100%|██████████| 27/27 [00:01<00:00, 25.61it/s]\n",
      "100%|██████████| 27/27 [00:01<00:00, 26.29it/s]\n",
      "100%|██████████| 27/27 [00:01<00:00, 25.39it/s]\n"
     ]
    },
    {
     "name": "stdout",
     "output_type": "stream",
     "text": [
      "Validation set\n",
      "Recall, Average:0.4718, Std:0.1004\n",
      "precision, Average:0.5783, Std:0.1767\n",
      "Accuracy, Average:0.6286, Std:0.0860\n",
      "AUC, Average:0.6070, Std:0.0917\n",
      "--------------------\n"
     ]
    },
    {
     "name": "stderr",
     "output_type": "stream",
     "text": [
      "100%|██████████| 28/28 [00:01<00:00, 24.05it/s]\n",
      "100%|██████████| 28/28 [00:01<00:00, 20.85it/s]\n",
      "100%|██████████| 28/28 [00:01<00:00, 27.25it/s]\n",
      "100%|██████████| 28/28 [00:00<00:00, 29.17it/s]\n",
      "100%|██████████| 28/28 [00:00<00:00, 29.98it/s]\n"
     ]
    },
    {
     "name": "stdout",
     "output_type": "stream",
     "text": [
      "Validation set\n",
      "Recall, Average:0.4731, Std:0.1011\n",
      "precision, Average:0.5814, Std:0.1774\n",
      "Accuracy, Average:0.6309, Std:0.0859\n",
      "AUC, Average:0.6091, Std:0.0920\n",
      "--------------------\n"
     ]
    },
    {
     "name": "stderr",
     "output_type": "stream",
     "text": [
      "100%|██████████| 29/29 [00:00<00:00, 29.47it/s]\n",
      "100%|██████████| 29/29 [00:00<00:00, 29.66it/s]\n",
      "100%|██████████| 29/29 [00:00<00:00, 30.06it/s]\n",
      "100%|██████████| 29/29 [00:00<00:00, 30.19it/s]\n",
      "100%|██████████| 29/29 [00:00<00:00, 30.51it/s]\n"
     ]
    },
    {
     "name": "stdout",
     "output_type": "stream",
     "text": [
      "Validation set\n",
      "Recall, Average:0.4724, Std:0.0999\n",
      "precision, Average:0.5812, Std:0.1760\n",
      "Accuracy, Average:0.6310, Std:0.0846\n",
      "AUC, Average:0.6091, Std:0.0907\n",
      "--------------------\n"
     ]
    },
    {
     "name": "stderr",
     "output_type": "stream",
     "text": [
      "100%|██████████| 30/30 [00:00<00:00, 30.86it/s]\n",
      "100%|██████████| 30/30 [00:01<00:00, 29.59it/s]\n",
      "100%|██████████| 30/30 [00:01<00:00, 28.93it/s]\n",
      "100%|██████████| 30/30 [00:01<00:00, 30.00it/s]\n",
      "100%|██████████| 30/30 [00:01<00:00, 29.46it/s]\n"
     ]
    },
    {
     "name": "stdout",
     "output_type": "stream",
     "text": [
      "Validation set\n",
      "Recall, Average:0.4720, Std:0.0995\n",
      "precision, Average:0.5813, Std:0.1765\n",
      "Accuracy, Average:0.6312, Std:0.0841\n",
      "AUC, Average:0.6091, Std:0.0905\n",
      "--------------------\n"
     ]
    },
    {
     "name": "stderr",
     "output_type": "stream",
     "text": [
      "100%|██████████| 31/31 [00:01<00:00, 29.35it/s]\n",
      "100%|██████████| 31/31 [00:01<00:00, 30.42it/s]\n",
      "100%|██████████| 31/31 [00:01<00:00, 30.11it/s]\n",
      "100%|██████████| 31/31 [00:01<00:00, 29.43it/s]\n",
      "100%|██████████| 31/31 [00:01<00:00, 29.52it/s]\n"
     ]
    },
    {
     "name": "stdout",
     "output_type": "stream",
     "text": [
      "Validation set\n",
      "Recall, Average:0.4712, Std:0.0993\n",
      "precision, Average:0.5822, Std:0.1765\n",
      "Accuracy, Average:0.6316, Std:0.0834\n",
      "AUC, Average:0.6093, Std:0.0899\n",
      "--------------------\n"
     ]
    },
    {
     "name": "stderr",
     "output_type": "stream",
     "text": [
      "100%|██████████| 32/32 [00:01<00:00, 30.21it/s]\n",
      "100%|██████████| 32/32 [00:01<00:00, 29.35it/s]\n",
      "100%|██████████| 32/32 [00:01<00:00, 29.14it/s]\n",
      "100%|██████████| 32/32 [00:01<00:00, 29.57it/s]\n",
      "100%|██████████| 32/32 [00:01<00:00, 29.49it/s]\n"
     ]
    },
    {
     "name": "stdout",
     "output_type": "stream",
     "text": [
      "Validation set\n",
      "Recall, Average:0.4704, Std:0.0989\n",
      "precision, Average:0.5839, Std:0.1766\n",
      "Accuracy, Average:0.6324, Std:0.0831\n",
      "AUC, Average:0.6099, Std:0.0895\n",
      "--------------------\n"
     ]
    },
    {
     "name": "stderr",
     "output_type": "stream",
     "text": [
      "100%|██████████| 33/33 [00:01<00:00, 29.06it/s]\n",
      "100%|██████████| 33/33 [00:01<00:00, 30.12it/s]\n",
      "100%|██████████| 33/33 [00:01<00:00, 30.13it/s]\n",
      "100%|██████████| 33/33 [00:01<00:00, 30.57it/s]\n",
      "100%|██████████| 33/33 [00:01<00:00, 30.27it/s]\n"
     ]
    },
    {
     "name": "stdout",
     "output_type": "stream",
     "text": [
      "Validation set\n",
      "Recall, Average:0.4694, Std:0.0978\n",
      "precision, Average:0.5850, Std:0.1761\n",
      "Accuracy, Average:0.6329, Std:0.0823\n",
      "AUC, Average:0.6102, Std:0.0886\n",
      "--------------------\n"
     ]
    },
    {
     "name": "stderr",
     "output_type": "stream",
     "text": [
      "100%|██████████| 34/34 [00:01<00:00, 30.20it/s]\n",
      "100%|██████████| 34/34 [00:01<00:00, 30.29it/s]\n",
      "100%|██████████| 34/34 [00:01<00:00, 30.86it/s]\n",
      "100%|██████████| 34/34 [00:01<00:00, 29.51it/s]\n",
      "100%|██████████| 34/34 [00:01<00:00, 30.89it/s]\n"
     ]
    },
    {
     "name": "stdout",
     "output_type": "stream",
     "text": [
      "Validation set\n",
      "Recall, Average:0.4680, Std:0.0983\n",
      "precision, Average:0.5850, Std:0.1761\n",
      "Accuracy, Average:0.6330, Std:0.0815\n",
      "AUC, Average:0.6100, Std:0.0882\n",
      "--------------------\n"
     ]
    },
    {
     "name": "stderr",
     "output_type": "stream",
     "text": [
      "100%|██████████| 35/35 [00:01<00:00, 29.30it/s]\n",
      "100%|██████████| 35/35 [00:01<00:00, 30.85it/s]\n",
      "100%|██████████| 35/35 [00:01<00:00, 29.66it/s]\n",
      "100%|██████████| 35/35 [00:01<00:00, 29.73it/s]\n",
      "100%|██████████| 35/35 [00:01<00:00, 28.63it/s]\n"
     ]
    },
    {
     "name": "stdout",
     "output_type": "stream",
     "text": [
      "Validation set\n",
      "Recall, Average:0.4684, Std:0.0981\n",
      "precision, Average:0.5861, Std:0.1762\n",
      "Accuracy, Average:0.6337, Std:0.0807\n",
      "AUC, Average:0.6106, Std:0.0876\n",
      "--------------------\n"
     ]
    },
    {
     "name": "stderr",
     "output_type": "stream",
     "text": [
      "100%|██████████| 36/36 [00:01<00:00, 30.93it/s]\n",
      "100%|██████████| 36/36 [00:01<00:00, 28.76it/s]\n",
      "100%|██████████| 36/36 [00:01<00:00, 26.68it/s]\n",
      "100%|██████████| 36/36 [00:01<00:00, 24.97it/s]\n",
      "100%|██████████| 36/36 [00:01<00:00, 19.00it/s]\n"
     ]
    },
    {
     "name": "stdout",
     "output_type": "stream",
     "text": [
      "Validation set\n",
      "Recall, Average:0.4680, Std:0.0974\n",
      "precision, Average:0.5872, Std:0.1764\n",
      "Accuracy, Average:0.6341, Std:0.0804\n",
      "AUC, Average:0.6109, Std:0.0871\n",
      "--------------------\n"
     ]
    },
    {
     "name": "stderr",
     "output_type": "stream",
     "text": [
      "100%|██████████| 37/37 [00:01<00:00, 27.97it/s]\n",
      "100%|██████████| 37/37 [00:01<00:00, 28.79it/s]\n",
      "100%|██████████| 37/37 [00:01<00:00, 29.59it/s]\n",
      "100%|██████████| 37/37 [00:01<00:00, 30.03it/s]\n",
      "100%|██████████| 37/37 [00:01<00:00, 30.30it/s]\n"
     ]
    },
    {
     "name": "stdout",
     "output_type": "stream",
     "text": [
      "Validation set\n",
      "Recall, Average:0.4673, Std:0.0967\n",
      "precision, Average:0.5878, Std:0.1764\n",
      "Accuracy, Average:0.6342, Std:0.0802\n",
      "AUC, Average:0.6110, Std:0.0869\n",
      "--------------------\n"
     ]
    },
    {
     "name": "stderr",
     "output_type": "stream",
     "text": [
      "100%|██████████| 38/38 [00:01<00:00, 28.99it/s]\n",
      "100%|██████████| 38/38 [00:01<00:00, 25.92it/s]\n",
      "100%|██████████| 38/38 [00:01<00:00, 30.39it/s]\n",
      "100%|██████████| 38/38 [00:01<00:00, 30.05it/s]\n",
      "100%|██████████| 38/38 [00:01<00:00, 30.43it/s]\n"
     ]
    },
    {
     "name": "stdout",
     "output_type": "stream",
     "text": [
      "Validation set\n",
      "Recall, Average:0.4668, Std:0.0966\n",
      "precision, Average:0.5886, Std:0.1764\n",
      "Accuracy, Average:0.6345, Std:0.0801\n",
      "AUC, Average:0.6113, Std:0.0868\n",
      "--------------------\n"
     ]
    },
    {
     "name": "stderr",
     "output_type": "stream",
     "text": [
      "100%|██████████| 39/39 [00:01<00:00, 29.55it/s]\n",
      "100%|██████████| 39/39 [00:01<00:00, 28.12it/s]\n",
      "100%|██████████| 39/39 [00:01<00:00, 30.20it/s]\n",
      "100%|██████████| 39/39 [00:01<00:00, 30.10it/s]\n",
      "100%|██████████| 39/39 [00:01<00:00, 29.71it/s]\n"
     ]
    },
    {
     "name": "stdout",
     "output_type": "stream",
     "text": [
      "Validation set\n",
      "Recall, Average:0.4665, Std:0.0960\n",
      "precision, Average:0.5896, Std:0.1762\n",
      "Accuracy, Average:0.6352, Std:0.0795\n",
      "AUC, Average:0.6118, Std:0.0863\n",
      "--------------------\n"
     ]
    },
    {
     "name": "stderr",
     "output_type": "stream",
     "text": [
      "100%|██████████| 40/40 [00:01<00:00, 29.42it/s]\n",
      "100%|██████████| 40/40 [00:01<00:00, 30.68it/s]\n",
      "100%|██████████| 40/40 [00:01<00:00, 28.96it/s]\n",
      "100%|██████████| 40/40 [00:01<00:00, 29.78it/s]\n",
      "100%|██████████| 40/40 [00:01<00:00, 30.66it/s]\n"
     ]
    },
    {
     "name": "stdout",
     "output_type": "stream",
     "text": [
      "Validation set\n",
      "Recall, Average:0.4668, Std:0.0961\n",
      "precision, Average:0.5903, Std:0.1761\n",
      "Accuracy, Average:0.6357, Std:0.0792\n",
      "AUC, Average:0.6123, Std:0.0861\n",
      "--------------------\n"
     ]
    },
    {
     "name": "stderr",
     "output_type": "stream",
     "text": [
      "100%|██████████| 41/41 [00:01<00:00, 29.56it/s]\n",
      "100%|██████████| 41/41 [00:01<00:00, 29.69it/s]\n",
      "100%|██████████| 41/41 [00:01<00:00, 30.54it/s]\n",
      "100%|██████████| 41/41 [00:01<00:00, 30.10it/s]\n",
      "100%|██████████| 41/41 [00:01<00:00, 30.04it/s]\n"
     ]
    },
    {
     "name": "stdout",
     "output_type": "stream",
     "text": [
      "Validation set\n",
      "Recall, Average:0.4656, Std:0.0961\n",
      "precision, Average:0.5910, Std:0.1765\n",
      "Accuracy, Average:0.6358, Std:0.0791\n",
      "AUC, Average:0.6123, Std:0.0861\n",
      "--------------------\n"
     ]
    },
    {
     "name": "stderr",
     "output_type": "stream",
     "text": [
      "100%|██████████| 42/42 [00:01<00:00, 30.20it/s]\n",
      "100%|██████████| 42/42 [00:01<00:00, 26.21it/s]\n",
      "100%|██████████| 42/42 [00:01<00:00, 24.40it/s]\n",
      "100%|██████████| 42/42 [00:01<00:00, 29.43it/s]\n",
      "100%|██████████| 42/42 [00:01<00:00, 28.33it/s]\n"
     ]
    },
    {
     "name": "stdout",
     "output_type": "stream",
     "text": [
      "Validation set\n",
      "Recall, Average:0.4653, Std:0.0958\n",
      "precision, Average:0.5922, Std:0.1768\n",
      "Accuracy, Average:0.6364, Std:0.0791\n",
      "AUC, Average:0.6128, Std:0.0860\n",
      "--------------------\n"
     ]
    },
    {
     "name": "stderr",
     "output_type": "stream",
     "text": [
      "100%|██████████| 43/43 [00:01<00:00, 28.98it/s]\n",
      "100%|██████████| 43/43 [00:01<00:00, 29.09it/s]\n",
      "100%|██████████| 43/43 [00:01<00:00, 29.76it/s]\n",
      "100%|██████████| 43/43 [00:01<00:00, 29.49it/s]\n",
      "100%|██████████| 43/43 [00:01<00:00, 29.03it/s]\n"
     ]
    },
    {
     "name": "stdout",
     "output_type": "stream",
     "text": [
      "Validation set\n",
      "Recall, Average:0.4651, Std:0.0956\n",
      "precision, Average:0.5929, Std:0.1770\n",
      "Accuracy, Average:0.6369, Std:0.0787\n",
      "AUC, Average:0.6131, Std:0.0858\n",
      "--------------------\n"
     ]
    },
    {
     "name": "stderr",
     "output_type": "stream",
     "text": [
      "100%|██████████| 44/44 [00:01<00:00, 29.94it/s]\n",
      "100%|██████████| 44/44 [00:01<00:00, 29.61it/s]\n",
      "100%|██████████| 44/44 [00:01<00:00, 29.46it/s]\n",
      "100%|██████████| 44/44 [00:01<00:00, 29.80it/s]\n",
      "100%|██████████| 44/44 [00:01<00:00, 29.45it/s]\n"
     ]
    },
    {
     "name": "stdout",
     "output_type": "stream",
     "text": [
      "Validation set\n",
      "Recall, Average:0.4640, Std:0.0958\n",
      "precision, Average:0.5930, Std:0.1769\n",
      "Accuracy, Average:0.6368, Std:0.0783\n",
      "AUC, Average:0.6130, Std:0.0856\n",
      "--------------------\n"
     ]
    },
    {
     "name": "stderr",
     "output_type": "stream",
     "text": [
      "100%|██████████| 45/45 [00:01<00:00, 29.65it/s]\n",
      "100%|██████████| 45/45 [00:01<00:00, 29.30it/s]\n",
      "100%|██████████| 45/45 [00:01<00:00, 29.22it/s]\n",
      "100%|██████████| 45/45 [00:01<00:00, 29.00it/s]\n",
      "100%|██████████| 45/45 [00:01<00:00, 29.85it/s]\n"
     ]
    },
    {
     "name": "stdout",
     "output_type": "stream",
     "text": [
      "Validation set\n",
      "Recall, Average:0.4637, Std:0.0962\n",
      "precision, Average:0.5938, Std:0.1778\n",
      "Accuracy, Average:0.6372, Std:0.0784\n",
      "AUC, Average:0.6133, Std:0.0859\n",
      "--------------------\n"
     ]
    },
    {
     "name": "stderr",
     "output_type": "stream",
     "text": [
      "100%|██████████| 46/46 [00:01<00:00, 29.47it/s]\n",
      "100%|██████████| 46/46 [00:01<00:00, 26.40it/s]\n",
      "100%|██████████| 46/46 [00:01<00:00, 29.26it/s]\n",
      "100%|██████████| 46/46 [00:01<00:00, 27.45it/s]\n",
      "100%|██████████| 46/46 [00:01<00:00, 25.42it/s]\n"
     ]
    },
    {
     "name": "stdout",
     "output_type": "stream",
     "text": [
      "Validation set\n",
      "Recall, Average:0.4638, Std:0.0970\n",
      "precision, Average:0.5944, Std:0.1778\n",
      "Accuracy, Average:0.6378, Std:0.0782\n",
      "AUC, Average:0.6138, Std:0.0859\n",
      "--------------------\n"
     ]
    },
    {
     "name": "stderr",
     "output_type": "stream",
     "text": [
      "100%|██████████| 47/47 [00:01<00:00, 26.81it/s]\n",
      "100%|██████████| 47/47 [00:02<00:00, 23.17it/s]\n",
      "100%|██████████| 47/47 [00:01<00:00, 27.22it/s]\n",
      "100%|██████████| 47/47 [00:01<00:00, 30.08it/s]\n",
      "100%|██████████| 47/47 [00:01<00:00, 26.35it/s]\n"
     ]
    },
    {
     "name": "stdout",
     "output_type": "stream",
     "text": [
      "Validation set\n",
      "Recall, Average:0.4641, Std:0.0966\n",
      "precision, Average:0.5948, Std:0.1779\n",
      "Accuracy, Average:0.6380, Std:0.0783\n",
      "AUC, Average:0.6140, Std:0.0860\n",
      "--------------------\n"
     ]
    },
    {
     "name": "stderr",
     "output_type": "stream",
     "text": [
      "100%|██████████| 48/48 [00:01<00:00, 29.42it/s]\n",
      "100%|██████████| 48/48 [00:01<00:00, 26.93it/s]\n",
      "100%|██████████| 48/48 [00:01<00:00, 29.21it/s]\n",
      "100%|██████████| 48/48 [00:01<00:00, 29.15it/s]\n",
      "100%|██████████| 48/48 [00:01<00:00, 29.76it/s]\n"
     ]
    },
    {
     "name": "stdout",
     "output_type": "stream",
     "text": [
      "Validation set\n",
      "Recall, Average:0.4649, Std:0.0964\n",
      "precision, Average:0.5957, Std:0.1774\n",
      "Accuracy, Average:0.6386, Std:0.0781\n",
      "AUC, Average:0.6147, Std:0.0858\n",
      "--------------------\n"
     ]
    },
    {
     "name": "stderr",
     "output_type": "stream",
     "text": [
      "100%|██████████| 49/49 [00:01<00:00, 28.03it/s]\n",
      "100%|██████████| 49/49 [00:01<00:00, 29.97it/s]\n",
      "100%|██████████| 49/49 [00:01<00:00, 29.45it/s]\n",
      "100%|██████████| 49/49 [00:01<00:00, 28.58it/s]\n",
      "100%|██████████| 49/49 [00:01<00:00, 30.25it/s]\n"
     ]
    },
    {
     "name": "stdout",
     "output_type": "stream",
     "text": [
      "Validation set\n",
      "Recall, Average:0.4636, Std:0.0962\n",
      "precision, Average:0.5961, Std:0.1777\n",
      "Accuracy, Average:0.6385, Std:0.0778\n",
      "AUC, Average:0.6145, Std:0.0856\n",
      "--------------------\n",
      "48\n"
     ]
    }
   ],
   "source": [
    "X_train = train_center_data.drop(columns=['Center','Name','Label'])\n",
    "y_train = train_center_data[[\"Label\"]]\n",
    "\n",
    "\n",
    "# train_data = train_center_data[selected_features]\n",
    "# test_data = test_center_data[selected_features]\n",
    "\n",
    "val_acc_list = []\n",
    "val_auc_list = []\n",
    "val_recall_list = []\n",
    "val_precision_list = []\n",
    "\n",
    "\n",
    "\n",
    "skf = KFold(n_splits=5, shuffle=True, random_state=1)\n",
    "auc_list = []\n",
    "best_k = 0\n",
    "best_auc =0\n",
    "for k in range(2,50):\n",
    "    for train_index, val_index in skf.split(X_train, y_train):\n",
    "        train_x_raw, val_x_raw = X_train.iloc[train_index], X_train.iloc[val_index]\n",
    "        train_y, val_y = y_train.iloc[train_index], y_train.iloc[val_index]\n",
    "\n",
    "        standard_scaler = StandardScaler()\n",
    "        train_x_scaled = pd.DataFrame(standard_scaler.fit_transform(train_x_raw),columns=train_x_raw.columns)\n",
    "        val_x_scaled = pd.DataFrame(standard_scaler.transform(val_x_raw),columns=val_x_raw.columns)\n",
    "        \n",
    "        selected_features = mrmr_classif(train_x_scaled, train_y.to_numpy().squeeze(), K=k)\n",
    "        # selected_features.remove('Label')\n",
    "        train_x = train_x_scaled[selected_features]\n",
    "        val_x = val_x_scaled[selected_features]\n",
    "        # test_x = test_x_raw[selected_features]\n",
    "        \n",
    "        # test_x = standard_scaler.transform(test_x)\n",
    "\n",
    "        model = RandomForestClassifier(n_estimators=51, random_state=42)\n",
    "        model.fit(train_x, train_y)\n",
    "    # --------------------validation----------------------\n",
    "        y_pred_proba = model.predict(val_x)  # Get probabilities for the positive class\n",
    "        y_pred = model.predict(val_x)\n",
    "\n",
    "        val_accuracy = accuracy_score(val_y, y_pred)\n",
    "        # print(f'Accuracy: {accuracy:.4f}')\n",
    "        val_auc_score = roc_auc_score(val_y, y_pred_proba,average='micro')\n",
    "        # print(f'AUC Score: {auc_score:.4f}')\n",
    "        # Print the classification report\n",
    "        val_recall = recall_score(val_y, y_pred)\n",
    "        # print(f'Recall Score: {recall:.4f}')\n",
    "        val_precision = precision_score(val_y, y_pred)\n",
    "        # print(f'AUC Score: {precision:.4f}')\n",
    "        val_acc_list.append(val_accuracy)\n",
    "        val_auc_list.append(val_auc_score)\n",
    "        val_recall_list.append(val_recall)\n",
    "        val_precision_list.append(val_precision)\n",
    "\n",
    "    # --------------------test----------------------\n",
    "        # y_pred_proba = model.predict(test_x)  # Get probabilities for the positive class\n",
    "        # y_pred = model.predict(test_x)\n",
    "\n",
    "        # test_accuracy = accuracy_score(test_y, y_pred)\n",
    "        # # print(f'Accuracy: {accuracy:.4f}')\n",
    "        # test_auc_score = roc_auc_score(test_y, y_pred_proba)\n",
    "        # # print(f'AUC Score: {auc_score:.4f}')\n",
    "        # # Print the classification report\n",
    "        # test_recall = recall_score(test_y, y_pred)\n",
    "        # # print(f'Recall Score: {recall:.4f}')\n",
    "        # test_precision = precision_score(test_y, y_pred)\n",
    "        # # print(f'AUC Score: {precision:.4f}')\n",
    "        # test_acc_list.append(test_accuracy)\n",
    "        # test_auc_list.append(test_auc_score)\n",
    "        # test_recall_list.append(test_recall)\n",
    "        # test_precision_list.append(test_precision)\n",
    "        # Save the model\n",
    "        # dump(model, f'./RFmodels_3d/RF_{fold}.joblib')\n",
    "\n",
    "    print('Validation set')\n",
    "    auc = get_results(val_acc_list,val_auc_list,val_recall_list,val_precision_list)\n",
    "    auc_list.append(auc)\n",
    "    if auc>=best_auc:\n",
    "        best_k=k\n",
    "        best_auc=auc\n",
    "    print('--------------------')\n",
    "    # print(\"Test set\")\n",
    "    # get_results(test_acc_list,test_auc_list,test_recall_list,test_precision_list)\n",
    "    # print('================================================')\n",
    "print(best_k)"
   ]
  },
  {
   "cell_type": "code",
   "execution_count": 157,
   "metadata": {},
   "outputs": [
    {
     "data": {
      "image/png": "[encoded data removed]",
      "text/plain": [
       "<Figure size 640x480 with 1 Axes>"
      ]
     },
     "metadata": {},
     "output_type": "display_data"
    }
   ],
   "source": [
    "plt.plot(range(48),auc_list, label='AUC')\n",
    "plt.title('N vs AUC')\n",
    "plt.xlabel('N')\n",
    "plt.ylabel('AUC')\n",
    "plt.legend()\n",
    "plt.show()"
   ]
  },
  {
   "cell_type": "code",
   "execution_count": 161,
   "metadata": {},
   "outputs": [
    {
     "name": "stdout",
     "output_type": "stream",
     "text": [
      "Iteration:1\n"
     ]
    },
    {
     "name": "stderr",
     "output_type": "stream",
     "text": [
      "100%|██████████| 30/30 [00:01<00:00, 26.21it/s]\n",
      "100%|██████████| 30/30 [00:01<00:00, 27.36it/s]\n",
      "100%|██████████| 30/30 [00:01<00:00, 22.14it/s]\n",
      "100%|██████████| 30/30 [00:01<00:00, 29.44it/s]\n",
      "100%|██████████| 30/30 [00:01<00:00, 28.45it/s]\n"
     ]
    },
    {
     "name": "stdout",
     "output_type": "stream",
     "text": [
      "Iteration:2\n"
     ]
    },
    {
     "name": "stderr",
     "output_type": "stream",
     "text": [
      "100%|██████████| 30/30 [00:01<00:00, 27.99it/s]\n",
      "100%|██████████| 30/30 [00:01<00:00, 26.58it/s]\n",
      "100%|██████████| 30/30 [00:01<00:00, 24.85it/s]\n",
      "100%|██████████| 30/30 [00:00<00:00, 33.91it/s]\n",
      "100%|██████████| 30/30 [00:00<00:00, 34.66it/s]\n"
     ]
    },
    {
     "name": "stdout",
     "output_type": "stream",
     "text": [
      "Iteration:3\n"
     ]
    },
    {
     "name": "stderr",
     "output_type": "stream",
     "text": [
      "100%|██████████| 30/30 [00:00<00:00, 35.98it/s]\n",
      "100%|██████████| 30/30 [00:00<00:00, 33.86it/s]\n",
      "100%|██████████| 30/30 [00:00<00:00, 36.26it/s]\n",
      "100%|██████████| 30/30 [00:00<00:00, 35.37it/s]\n",
      "100%|██████████| 30/30 [00:01<00:00, 28.64it/s]\n"
     ]
    },
    {
     "name": "stdout",
     "output_type": "stream",
     "text": [
      "Iteration:4\n"
     ]
    },
    {
     "name": "stderr",
     "output_type": "stream",
     "text": [
      "100%|██████████| 30/30 [00:00<00:00, 33.35it/s]\n",
      "100%|██████████| 30/30 [00:00<00:00, 33.48it/s]\n",
      "100%|██████████| 30/30 [00:00<00:00, 34.78it/s]\n",
      "100%|██████████| 30/30 [00:00<00:00, 32.17it/s]\n",
      "100%|██████████| 30/30 [00:00<00:00, 31.67it/s]\n"
     ]
    },
    {
     "name": "stdout",
     "output_type": "stream",
     "text": [
      "Iteration:5\n"
     ]
    },
    {
     "name": "stderr",
     "output_type": "stream",
     "text": [
      "100%|██████████| 30/30 [00:00<00:00, 33.12it/s]\n",
      "100%|██████████| 30/30 [00:00<00:00, 36.26it/s]\n",
      "100%|██████████| 30/30 [00:00<00:00, 33.96it/s]\n",
      "100%|██████████| 30/30 [00:00<00:00, 32.32it/s]\n",
      "100%|██████████| 30/30 [00:00<00:00, 32.35it/s]\n"
     ]
    },
    {
     "name": "stdout",
     "output_type": "stream",
     "text": [
      "Iteration:6\n"
     ]
    },
    {
     "name": "stderr",
     "output_type": "stream",
     "text": [
      "100%|██████████| 30/30 [00:00<00:00, 34.32it/s]\n",
      "100%|██████████| 30/30 [00:00<00:00, 32.58it/s]\n",
      "100%|██████████| 30/30 [00:00<00:00, 36.42it/s]\n",
      "100%|██████████| 30/30 [00:00<00:00, 35.86it/s]\n",
      "100%|██████████| 30/30 [00:00<00:00, 34.98it/s]\n"
     ]
    },
    {
     "name": "stdout",
     "output_type": "stream",
     "text": [
      "Iteration:7\n"
     ]
    },
    {
     "name": "stderr",
     "output_type": "stream",
     "text": [
      "100%|██████████| 30/30 [00:00<00:00, 32.81it/s]\n",
      "100%|██████████| 30/30 [00:00<00:00, 36.35it/s]\n",
      "100%|██████████| 30/30 [00:00<00:00, 34.05it/s]\n",
      "100%|██████████| 30/30 [00:00<00:00, 34.47it/s]\n",
      "100%|██████████| 30/30 [00:00<00:00, 32.63it/s]\n"
     ]
    },
    {
     "name": "stdout",
     "output_type": "stream",
     "text": [
      "Iteration:8\n"
     ]
    },
    {
     "name": "stderr",
     "output_type": "stream",
     "text": [
      "100%|██████████| 30/30 [00:00<00:00, 32.00it/s]\n",
      "100%|██████████| 30/30 [00:00<00:00, 35.75it/s]\n",
      "100%|██████████| 30/30 [00:00<00:00, 33.50it/s]\n",
      "100%|██████████| 30/30 [00:00<00:00, 35.18it/s]\n",
      "100%|██████████| 30/30 [00:00<00:00, 34.40it/s]\n"
     ]
    },
    {
     "name": "stdout",
     "output_type": "stream",
     "text": [
      "Iteration:9\n"
     ]
    },
    {
     "name": "stderr",
     "output_type": "stream",
     "text": [
      "100%|██████████| 30/30 [00:00<00:00, 35.11it/s]\n",
      "100%|██████████| 30/30 [00:00<00:00, 36.20it/s]\n",
      "100%|██████████| 30/30 [00:00<00:00, 34.02it/s]\n",
      "100%|██████████| 30/30 [00:00<00:00, 33.52it/s]\n",
      "100%|██████████| 30/30 [00:00<00:00, 33.17it/s]\n"
     ]
    },
    {
     "name": "stdout",
     "output_type": "stream",
     "text": [
      "Iteration:10\n"
     ]
    },
    {
     "name": "stderr",
     "output_type": "stream",
     "text": [
      "100%|██████████| 30/30 [00:00<00:00, 37.54it/s]\n",
      "100%|██████████| 30/30 [00:00<00:00, 35.07it/s]\n",
      "100%|██████████| 30/30 [00:00<00:00, 33.05it/s]\n",
      "100%|██████████| 30/30 [00:00<00:00, 34.75it/s]\n",
      "100%|██████████| 30/30 [00:00<00:00, 35.99it/s]\n"
     ]
    },
    {
     "name": "stdout",
     "output_type": "stream",
     "text": [
      "Iteration:11\n"
     ]
    },
    {
     "name": "stderr",
     "output_type": "stream",
     "text": [
      "100%|██████████| 30/30 [00:00<00:00, 34.07it/s]\n",
      "100%|██████████| 30/30 [00:00<00:00, 36.04it/s]\n",
      "100%|██████████| 30/30 [00:00<00:00, 34.09it/s]\n",
      "100%|██████████| 30/30 [00:00<00:00, 32.84it/s]\n",
      "100%|██████████| 30/30 [00:00<00:00, 35.18it/s]\n"
     ]
    },
    {
     "name": "stdout",
     "output_type": "stream",
     "text": [
      "Iteration:12\n"
     ]
    },
    {
     "name": "stderr",
     "output_type": "stream",
     "text": [
      "100%|██████████| 30/30 [00:00<00:00, 32.60it/s]\n",
      "100%|██████████| 30/30 [00:00<00:00, 32.79it/s]\n",
      "100%|██████████| 30/30 [00:00<00:00, 34.75it/s]\n",
      "100%|██████████| 30/30 [00:00<00:00, 32.26it/s]\n",
      "100%|██████████| 30/30 [00:00<00:00, 35.08it/s]\n"
     ]
    },
    {
     "name": "stdout",
     "output_type": "stream",
     "text": [
      "Iteration:13\n"
     ]
    },
    {
     "name": "stderr",
     "output_type": "stream",
     "text": [
      "100%|██████████| 30/30 [00:00<00:00, 31.80it/s]\n",
      "100%|██████████| 30/30 [00:00<00:00, 33.14it/s]\n",
      "100%|██████████| 30/30 [00:00<00:00, 31.90it/s]\n",
      "100%|██████████| 30/30 [00:01<00:00, 29.31it/s]\n",
      "100%|██████████| 30/30 [00:01<00:00, 22.58it/s]\n"
     ]
    },
    {
     "name": "stdout",
     "output_type": "stream",
     "text": [
      "Iteration:14\n"
     ]
    },
    {
     "name": "stderr",
     "output_type": "stream",
     "text": [
      "100%|██████████| 30/30 [00:01<00:00, 21.02it/s]\n",
      "100%|██████████| 30/30 [00:01<00:00, 19.93it/s]\n",
      "100%|██████████| 30/30 [00:01<00:00, 21.84it/s]\n",
      "100%|██████████| 30/30 [00:01<00:00, 28.00it/s]\n",
      "100%|██████████| 30/30 [00:01<00:00, 26.84it/s]\n"
     ]
    },
    {
     "name": "stdout",
     "output_type": "stream",
     "text": [
      "Iteration:15\n"
     ]
    },
    {
     "name": "stderr",
     "output_type": "stream",
     "text": [
      "100%|██████████| 30/30 [00:01<00:00, 21.60it/s]\n",
      "100%|██████████| 30/30 [00:01<00:00, 16.23it/s]\n",
      "100%|██████████| 30/30 [00:01<00:00, 18.78it/s]\n",
      "100%|██████████| 30/30 [00:01<00:00, 27.55it/s]\n",
      "100%|██████████| 30/30 [00:01<00:00, 29.99it/s]\n"
     ]
    },
    {
     "name": "stdout",
     "output_type": "stream",
     "text": [
      "Iteration:16\n"
     ]
    },
    {
     "name": "stderr",
     "output_type": "stream",
     "text": [
      "100%|██████████| 30/30 [00:01<00:00, 28.58it/s]\n",
      "100%|██████████| 30/30 [00:01<00:00, 28.24it/s]\n",
      "100%|██████████| 30/30 [00:01<00:00, 25.16it/s]\n",
      "100%|██████████| 30/30 [00:01<00:00, 29.19it/s]\n",
      "100%|██████████| 30/30 [00:01<00:00, 29.31it/s]\n"
     ]
    },
    {
     "name": "stdout",
     "output_type": "stream",
     "text": [
      "Iteration:17\n"
     ]
    },
    {
     "name": "stderr",
     "output_type": "stream",
     "text": [
      "100%|██████████| 30/30 [00:01<00:00, 20.30it/s]\n",
      "100%|██████████| 30/30 [00:01<00:00, 20.96it/s]\n",
      "100%|██████████| 30/30 [00:01<00:00, 24.46it/s]\n",
      "100%|██████████| 30/30 [00:01<00:00, 29.09it/s]\n",
      "100%|██████████| 30/30 [00:01<00:00, 25.45it/s]\n"
     ]
    },
    {
     "name": "stdout",
     "output_type": "stream",
     "text": [
      "Iteration:18\n"
     ]
    },
    {
     "name": "stderr",
     "output_type": "stream",
     "text": [
      "100%|██████████| 30/30 [00:01<00:00, 29.60it/s]\n",
      "100%|██████████| 30/30 [00:01<00:00, 28.98it/s]\n",
      "100%|██████████| 30/30 [00:01<00:00, 23.17it/s]\n",
      "100%|██████████| 30/30 [00:01<00:00, 28.91it/s]\n",
      "100%|██████████| 30/30 [00:01<00:00, 25.25it/s]\n"
     ]
    },
    {
     "name": "stdout",
     "output_type": "stream",
     "text": [
      "Iteration:19\n"
     ]
    },
    {
     "name": "stderr",
     "output_type": "stream",
     "text": [
      "100%|██████████| 30/30 [00:01<00:00, 23.44it/s]\n",
      "100%|██████████| 30/30 [00:01<00:00, 21.57it/s]\n",
      "100%|██████████| 30/30 [00:01<00:00, 23.27it/s]\n",
      "100%|██████████| 30/30 [00:01<00:00, 19.51it/s]\n",
      "100%|██████████| 30/30 [00:01<00:00, 24.33it/s]\n"
     ]
    },
    {
     "name": "stdout",
     "output_type": "stream",
     "text": [
      "Iteration:20\n"
     ]
    },
    {
     "name": "stderr",
     "output_type": "stream",
     "text": [
      "100%|██████████| 30/30 [00:01<00:00, 25.13it/s]\n",
      "100%|██████████| 30/30 [00:01<00:00, 23.36it/s]\n",
      "100%|██████████| 30/30 [00:01<00:00, 21.78it/s]\n",
      "100%|██████████| 30/30 [00:01<00:00, 26.22it/s]\n",
      "100%|██████████| 30/30 [00:01<00:00, 29.08it/s]\n"
     ]
    },
    {
     "name": "stdout",
     "output_type": "stream",
     "text": [
      "Iteration:21\n"
     ]
    },
    {
     "name": "stderr",
     "output_type": "stream",
     "text": [
      "100%|██████████| 30/30 [00:01<00:00, 26.67it/s]\n",
      "100%|██████████| 30/30 [00:01<00:00, 28.19it/s]\n",
      "100%|██████████| 30/30 [00:01<00:00, 28.96it/s]\n",
      "100%|██████████| 30/30 [00:01<00:00, 29.46it/s]\n",
      "100%|██████████| 30/30 [00:01<00:00, 28.43it/s]\n"
     ]
    },
    {
     "name": "stdout",
     "output_type": "stream",
     "text": [
      "Iteration:22\n"
     ]
    },
    {
     "name": "stderr",
     "output_type": "stream",
     "text": [
      "100%|██████████| 30/30 [00:01<00:00, 28.04it/s]\n",
      "100%|██████████| 30/30 [00:01<00:00, 23.72it/s]\n",
      "100%|██████████| 30/30 [00:01<00:00, 26.01it/s]\n",
      "100%|██████████| 30/30 [00:01<00:00, 27.46it/s]\n",
      "100%|██████████| 30/30 [00:01<00:00, 29.08it/s]\n"
     ]
    },
    {
     "name": "stdout",
     "output_type": "stream",
     "text": [
      "Iteration:23\n"
     ]
    },
    {
     "name": "stderr",
     "output_type": "stream",
     "text": [
      "100%|██████████| 30/30 [00:01<00:00, 28.13it/s]\n",
      "100%|██████████| 30/30 [00:01<00:00, 29.11it/s]\n",
      "100%|██████████| 30/30 [00:01<00:00, 24.78it/s]\n",
      "100%|██████████| 30/30 [00:01<00:00, 27.28it/s]\n",
      "100%|██████████| 30/30 [00:01<00:00, 29.35it/s]\n"
     ]
    },
    {
     "name": "stdout",
     "output_type": "stream",
     "text": [
      "Iteration:24\n"
     ]
    },
    {
     "name": "stderr",
     "output_type": "stream",
     "text": [
      "100%|██████████| 30/30 [00:01<00:00, 21.61it/s]\n",
      "100%|██████████| 30/30 [00:01<00:00, 28.25it/s]\n",
      "100%|██████████| 30/30 [00:01<00:00, 27.21it/s]\n",
      "100%|██████████| 30/30 [00:01<00:00, 26.21it/s]\n",
      "100%|██████████| 30/30 [00:01<00:00, 29.68it/s]\n"
     ]
    },
    {
     "name": "stdout",
     "output_type": "stream",
     "text": [
      "Iteration:25\n"
     ]
    },
    {
     "name": "stderr",
     "output_type": "stream",
     "text": [
      "100%|██████████| 30/30 [00:01<00:00, 29.27it/s]\n",
      "100%|██████████| 30/30 [00:00<00:00, 30.47it/s]\n",
      "100%|██████████| 30/30 [00:00<00:00, 30.51it/s]\n",
      "100%|██████████| 30/30 [00:00<00:00, 30.59it/s]\n",
      "100%|██████████| 30/30 [00:00<00:00, 31.70it/s]\n"
     ]
    },
    {
     "name": "stdout",
     "output_type": "stream",
     "text": [
      "Iteration:26\n"
     ]
    },
    {
     "name": "stderr",
     "output_type": "stream",
     "text": [
      "100%|██████████| 30/30 [00:00<00:00, 30.04it/s]\n",
      "100%|██████████| 30/30 [00:01<00:00, 29.80it/s]\n",
      "100%|██████████| 30/30 [00:00<00:00, 30.81it/s]\n",
      "100%|██████████| 30/30 [00:00<00:00, 30.71it/s]\n",
      "100%|██████████| 30/30 [00:01<00:00, 29.10it/s]\n"
     ]
    },
    {
     "name": "stdout",
     "output_type": "stream",
     "text": [
      "Iteration:27\n"
     ]
    },
    {
     "name": "stderr",
     "output_type": "stream",
     "text": [
      "100%|██████████| 30/30 [00:00<00:00, 30.00it/s]\n",
      "100%|██████████| 30/30 [00:01<00:00, 29.88it/s]\n",
      "100%|██████████| 30/30 [00:00<00:00, 30.99it/s]\n",
      "100%|██████████| 30/30 [00:00<00:00, 30.61it/s]\n",
      "100%|██████████| 30/30 [00:00<00:00, 30.06it/s]\n"
     ]
    },
    {
     "name": "stdout",
     "output_type": "stream",
     "text": [
      "Iteration:28\n"
     ]
    },
    {
     "name": "stderr",
     "output_type": "stream",
     "text": [
      "100%|██████████| 30/30 [00:00<00:00, 30.96it/s]\n",
      "100%|██████████| 30/30 [00:00<00:00, 30.79it/s]\n",
      "100%|██████████| 30/30 [00:00<00:00, 30.36it/s]\n",
      "100%|██████████| 30/30 [00:01<00:00, 29.93it/s]\n",
      "100%|██████████| 30/30 [00:01<00:00, 29.87it/s]\n"
     ]
    },
    {
     "name": "stdout",
     "output_type": "stream",
     "text": [
      "Iteration:29\n"
     ]
    },
    {
     "name": "stderr",
     "output_type": "stream",
     "text": [
      "100%|██████████| 30/30 [00:01<00:00, 29.99it/s]\n",
      "100%|██████████| 30/30 [00:00<00:00, 30.07it/s]\n",
      "100%|██████████| 30/30 [00:00<00:00, 30.12it/s]\n",
      "100%|██████████| 30/30 [00:01<00:00, 29.16it/s]\n",
      "100%|██████████| 30/30 [00:01<00:00, 29.21it/s]\n"
     ]
    },
    {
     "name": "stdout",
     "output_type": "stream",
     "text": [
      "Iteration:30\n"
     ]
    },
    {
     "name": "stderr",
     "output_type": "stream",
     "text": [
      "100%|██████████| 30/30 [00:01<00:00, 29.59it/s]\n",
      "100%|██████████| 30/30 [00:00<00:00, 30.09it/s]\n",
      "100%|██████████| 30/30 [00:01<00:00, 29.90it/s]\n",
      "100%|██████████| 30/30 [00:01<00:00, 30.00it/s]\n",
      "100%|██████████| 30/30 [00:00<00:00, 30.16it/s]\n"
     ]
    },
    {
     "name": "stdout",
     "output_type": "stream",
     "text": [
      "Iteration:31\n"
     ]
    },
    {
     "name": "stderr",
     "output_type": "stream",
     "text": [
      "100%|██████████| 30/30 [00:01<00:00, 28.04it/s]\n",
      "100%|██████████| 30/30 [00:01<00:00, 28.92it/s]\n",
      "100%|██████████| 30/30 [00:01<00:00, 28.98it/s]\n",
      "100%|██████████| 30/30 [00:01<00:00, 28.20it/s]\n",
      "100%|██████████| 30/30 [00:01<00:00, 29.05it/s]\n"
     ]
    },
    {
     "name": "stdout",
     "output_type": "stream",
     "text": [
      "Iteration:32\n"
     ]
    },
    {
     "name": "stderr",
     "output_type": "stream",
     "text": [
      "100%|██████████| 30/30 [00:01<00:00, 28.63it/s]\n",
      "100%|██████████| 30/30 [00:01<00:00, 27.78it/s]\n",
      "100%|██████████| 30/30 [00:01<00:00, 23.24it/s]\n",
      "100%|██████████| 30/30 [00:01<00:00, 27.74it/s]\n",
      "100%|██████████| 30/30 [00:01<00:00, 29.82it/s]\n"
     ]
    },
    {
     "name": "stdout",
     "output_type": "stream",
     "text": [
      "Iteration:33\n"
     ]
    },
    {
     "name": "stderr",
     "output_type": "stream",
     "text": [
      "100%|██████████| 30/30 [00:01<00:00, 29.59it/s]\n",
      "100%|██████████| 30/30 [00:01<00:00, 28.57it/s]\n",
      "100%|██████████| 30/30 [00:01<00:00, 29.22it/s]\n",
      "100%|██████████| 30/30 [00:01<00:00, 29.36it/s]\n",
      "100%|██████████| 30/30 [00:01<00:00, 29.94it/s]\n"
     ]
    },
    {
     "name": "stdout",
     "output_type": "stream",
     "text": [
      "Iteration:34\n"
     ]
    },
    {
     "name": "stderr",
     "output_type": "stream",
     "text": [
      "100%|██████████| 30/30 [00:00<00:00, 30.24it/s]\n",
      "100%|██████████| 30/30 [00:00<00:00, 30.56it/s]\n",
      "100%|██████████| 30/30 [00:01<00:00, 29.81it/s]\n",
      "100%|██████████| 30/30 [00:01<00:00, 29.24it/s]\n",
      "100%|██████████| 30/30 [00:01<00:00, 29.43it/s]\n"
     ]
    },
    {
     "name": "stdout",
     "output_type": "stream",
     "text": [
      "Iteration:35\n"
     ]
    },
    {
     "name": "stderr",
     "output_type": "stream",
     "text": [
      "100%|██████████| 30/30 [00:01<00:00, 26.75it/s]\n",
      "100%|██████████| 30/30 [00:01<00:00, 29.10it/s]\n",
      "100%|██████████| 30/30 [00:01<00:00, 29.54it/s]\n",
      "100%|██████████| 30/30 [00:01<00:00, 28.13it/s]\n",
      "100%|██████████| 30/30 [00:01<00:00, 27.17it/s]\n"
     ]
    },
    {
     "name": "stdout",
     "output_type": "stream",
     "text": [
      "Iteration:36\n"
     ]
    },
    {
     "name": "stderr",
     "output_type": "stream",
     "text": [
      "100%|██████████| 30/30 [00:01<00:00, 25.55it/s]\n",
      "100%|██████████| 30/30 [00:01<00:00, 29.37it/s]\n",
      "100%|██████████| 30/30 [00:01<00:00, 27.10it/s]\n",
      "100%|██████████| 30/30 [00:01<00:00, 26.51it/s]\n",
      "100%|██████████| 30/30 [00:01<00:00, 29.15it/s]\n"
     ]
    },
    {
     "name": "stdout",
     "output_type": "stream",
     "text": [
      "Iteration:37\n"
     ]
    },
    {
     "name": "stderr",
     "output_type": "stream",
     "text": [
      "100%|██████████| 30/30 [00:01<00:00, 29.55it/s]\n",
      "100%|██████████| 30/30 [00:01<00:00, 29.59it/s]\n",
      "100%|██████████| 30/30 [00:01<00:00, 29.31it/s]\n",
      "100%|██████████| 30/30 [00:01<00:00, 29.77it/s]\n",
      "100%|██████████| 30/30 [00:01<00:00, 29.78it/s]\n"
     ]
    },
    {
     "name": "stdout",
     "output_type": "stream",
     "text": [
      "Iteration:38\n"
     ]
    },
    {
     "name": "stderr",
     "output_type": "stream",
     "text": [
      "100%|██████████| 30/30 [00:01<00:00, 28.61it/s]\n",
      "100%|██████████| 30/30 [00:01<00:00, 29.28it/s]\n",
      "100%|██████████| 30/30 [00:01<00:00, 29.28it/s]\n",
      "100%|██████████| 30/30 [00:01<00:00, 29.27it/s]\n",
      "100%|██████████| 30/30 [00:01<00:00, 29.02it/s]\n"
     ]
    },
    {
     "name": "stdout",
     "output_type": "stream",
     "text": [
      "Iteration:39\n"
     ]
    },
    {
     "name": "stderr",
     "output_type": "stream",
     "text": [
      "100%|██████████| 30/30 [00:01<00:00, 29.29it/s]\n",
      "100%|██████████| 30/30 [00:01<00:00, 29.25it/s]\n",
      "100%|██████████| 30/30 [00:01<00:00, 29.51it/s]\n",
      "100%|██████████| 30/30 [00:01<00:00, 29.94it/s]\n",
      "100%|██████████| 30/30 [00:01<00:00, 28.33it/s]\n"
     ]
    },
    {
     "name": "stdout",
     "output_type": "stream",
     "text": [
      "Iteration:40\n"
     ]
    },
    {
     "name": "stderr",
     "output_type": "stream",
     "text": [
      "100%|██████████| 30/30 [00:01<00:00, 28.95it/s]\n",
      "100%|██████████| 30/30 [00:00<00:00, 30.34it/s]\n",
      "100%|██████████| 30/30 [00:01<00:00, 29.52it/s]\n",
      "100%|██████████| 30/30 [00:01<00:00, 29.23it/s]\n",
      "100%|██████████| 30/30 [00:01<00:00, 28.70it/s]\n"
     ]
    },
    {
     "name": "stdout",
     "output_type": "stream",
     "text": [
      "Iteration:41\n"
     ]
    },
    {
     "name": "stderr",
     "output_type": "stream",
     "text": [
      "100%|██████████| 30/30 [00:01<00:00, 29.66it/s]\n",
      "100%|██████████| 30/30 [00:01<00:00, 29.51it/s]\n",
      "100%|██████████| 30/30 [00:01<00:00, 29.78it/s]\n",
      "100%|██████████| 30/30 [00:01<00:00, 29.22it/s]\n",
      "100%|██████████| 30/30 [00:01<00:00, 28.32it/s]\n"
     ]
    },
    {
     "name": "stdout",
     "output_type": "stream",
     "text": [
      "Iteration:42\n"
     ]
    },
    {
     "name": "stderr",
     "output_type": "stream",
     "text": [
      "100%|██████████| 30/30 [00:01<00:00, 25.79it/s]\n",
      "100%|██████████| 30/30 [00:01<00:00, 26.75it/s]\n",
      "100%|██████████| 30/30 [00:01<00:00, 28.05it/s]\n",
      "100%|██████████| 30/30 [00:01<00:00, 27.19it/s]\n",
      "100%|██████████| 30/30 [00:01<00:00, 26.77it/s]\n"
     ]
    },
    {
     "name": "stdout",
     "output_type": "stream",
     "text": [
      "Iteration:43\n"
     ]
    },
    {
     "name": "stderr",
     "output_type": "stream",
     "text": [
      "100%|██████████| 30/30 [00:01<00:00, 29.19it/s]\n",
      "100%|██████████| 30/30 [00:01<00:00, 27.71it/s]\n",
      "100%|██████████| 30/30 [00:01<00:00, 27.01it/s]\n",
      "100%|██████████| 30/30 [00:01<00:00, 29.39it/s]\n",
      "100%|██████████| 30/30 [00:01<00:00, 29.48it/s]\n"
     ]
    },
    {
     "name": "stdout",
     "output_type": "stream",
     "text": [
      "Iteration:44\n"
     ]
    },
    {
     "name": "stderr",
     "output_type": "stream",
     "text": [
      "100%|██████████| 30/30 [00:01<00:00, 29.71it/s]\n",
      "100%|██████████| 30/30 [00:01<00:00, 27.25it/s]\n",
      "100%|██████████| 30/30 [00:01<00:00, 24.01it/s]\n",
      "100%|██████████| 30/30 [00:01<00:00, 22.71it/s]\n",
      "100%|██████████| 30/30 [00:01<00:00, 26.07it/s]\n"
     ]
    },
    {
     "name": "stdout",
     "output_type": "stream",
     "text": [
      "Iteration:45\n"
     ]
    },
    {
     "name": "stderr",
     "output_type": "stream",
     "text": [
      "100%|██████████| 30/30 [00:01<00:00, 28.87it/s]\n",
      "100%|██████████| 30/30 [00:01<00:00, 29.39it/s]\n",
      "100%|██████████| 30/30 [00:01<00:00, 29.16it/s]\n",
      "100%|██████████| 30/30 [00:00<00:00, 30.42it/s]\n",
      "100%|██████████| 30/30 [00:00<00:00, 30.03it/s]\n"
     ]
    },
    {
     "name": "stdout",
     "output_type": "stream",
     "text": [
      "Iteration:46\n"
     ]
    },
    {
     "name": "stderr",
     "output_type": "stream",
     "text": [
      "100%|██████████| 30/30 [00:00<00:00, 31.06it/s]\n",
      "100%|██████████| 30/30 [00:00<00:00, 30.28it/s]\n",
      "100%|██████████| 30/30 [00:01<00:00, 29.65it/s]\n",
      "100%|██████████| 30/30 [00:01<00:00, 28.10it/s]\n",
      "100%|██████████| 30/30 [00:01<00:00, 29.21it/s]\n"
     ]
    },
    {
     "name": "stdout",
     "output_type": "stream",
     "text": [
      "Iteration:47\n"
     ]
    },
    {
     "name": "stderr",
     "output_type": "stream",
     "text": [
      "100%|██████████| 30/30 [00:01<00:00, 29.68it/s]\n",
      "100%|██████████| 30/30 [00:01<00:00, 29.50it/s]\n",
      "100%|██████████| 30/30 [00:01<00:00, 28.23it/s]\n",
      "100%|██████████| 30/30 [00:01<00:00, 27.36it/s]\n",
      "100%|██████████| 30/30 [00:01<00:00, 25.19it/s]\n"
     ]
    },
    {
     "name": "stdout",
     "output_type": "stream",
     "text": [
      "Iteration:48\n"
     ]
    },
    {
     "name": "stderr",
     "output_type": "stream",
     "text": [
      "100%|██████████| 30/30 [00:01<00:00, 26.39it/s]\n",
      "100%|██████████| 30/30 [00:01<00:00, 27.85it/s]\n",
      "100%|██████████| 30/30 [00:01<00:00, 29.42it/s]\n",
      "100%|██████████| 30/30 [00:01<00:00, 29.87it/s]\n",
      "100%|██████████| 30/30 [00:01<00:00, 29.17it/s]\n"
     ]
    },
    {
     "name": "stdout",
     "output_type": "stream",
     "text": [
      "Iteration:49\n"
     ]
    },
    {
     "name": "stderr",
     "output_type": "stream",
     "text": [
      "100%|██████████| 30/30 [00:01<00:00, 29.50it/s]\n",
      "100%|██████████| 30/30 [00:01<00:00, 27.54it/s]\n",
      "100%|██████████| 30/30 [00:01<00:00, 29.29it/s]\n",
      "100%|██████████| 30/30 [00:01<00:00, 29.04it/s]\n",
      "100%|██████████| 30/30 [00:01<00:00, 29.36it/s]\n"
     ]
    },
    {
     "name": "stdout",
     "output_type": "stream",
     "text": [
      "Iteration:50\n"
     ]
    },
    {
     "name": "stderr",
     "output_type": "stream",
     "text": [
      "100%|██████████| 30/30 [00:01<00:00, 28.73it/s]\n",
      "100%|██████████| 30/30 [00:01<00:00, 29.19it/s]\n",
      "100%|██████████| 30/30 [00:01<00:00, 28.25it/s]\n",
      "100%|██████████| 30/30 [00:01<00:00, 29.41it/s]\n",
      "100%|██████████| 30/30 [00:01<00:00, 29.69it/s]\n"
     ]
    },
    {
     "name": "stdout",
     "output_type": "stream",
     "text": [
      "Validation set\n"
     ]
    }
   ],
   "source": [
    "X_train = train_center_data.drop(columns=['Center','Name','Label'])\n",
    "y_train = train_center_data[[\"Label\"]]\n",
    "\n",
    "val_acc_list = []\n",
    "val_auc_list = []\n",
    "val_recall_list = []\n",
    "val_precision_list = []\n",
    "\n",
    "\n",
    "skf = KFold(n_splits=5, shuffle=True, random_state=1)\n",
    "features_count_list = []\n",
    "best_k = 0\n",
    "best_auc =0\n",
    "for i in range(50):\n",
    "    print(f'Iteration:{i+1}')\n",
    "    for train_index, val_index in skf.split(X_train, y_train):\n",
    "        train_x_raw, val_x_raw = X_train.iloc[train_index], X_train.iloc[val_index]\n",
    "        train_y, val_y = y_train.iloc[train_index], y_train.iloc[val_index]\n",
    "\n",
    "        standard_scaler = StandardScaler()\n",
    "        train_x_scaled = pd.DataFrame(standard_scaler.fit_transform(train_x_raw),columns=train_x_raw.columns)\n",
    "        val_x_scaled = pd.DataFrame(standard_scaler.transform(val_x_raw),columns=val_x_raw.columns)\n",
    "        \n",
    "        selected_features = mrmr_classif(train_x_scaled, train_y.to_numpy().squeeze(), K=30)\n",
    "        features_count_list+=selected_features\n",
    "        # selected_features.remove('Label')\n",
    "        train_x = train_x_scaled[selected_features]\n",
    "        val_x = val_x_scaled[selected_features]\n",
    "        # test_x = test_x_raw[selected_features]\n",
    "        \n",
    "        # test_x = standard_scaler.transform(test_x)\n",
    "\n",
    "        model = RandomForestClassifier(n_estimators=51, random_state=42)\n",
    "        model.fit(train_x, train_y)\n",
    "    # --------------------validation----------------------\n",
    "        y_pred_proba = model.predict(val_x)  # Get probabilities for the positive class\n",
    "        y_pred = model.predict(val_x)\n",
    "\n",
    "        val_accuracy = accuracy_score(val_y, y_pred)\n",
    "        # print(f'Accuracy: {accuracy:.4f}')\n",
    "        val_auc_score = roc_auc_score(val_y, y_pred_proba,average='micro')\n",
    "        # print(f'AUC Score: {auc_score:.4f}')\n",
    "        val_recall = recall_score(val_y, y_pred)\n",
    "        # print(f'Recall Score: {recall:.4f}')\n",
    "        val_precision = precision_score(val_y, y_pred)\n",
    "        # print(f'AUC Score: {precision:.4f}')\n",
    "        val_acc_list.append(val_accuracy)\n",
    "        val_auc_list.append(val_auc_score)\n",
    "        val_recall_list.append(val_recall)\n",
    "        val_precision_list.append(val_precision)\n",
    "\n",
    "    # --------------------test----------------------\n",
    "        # y_pred_proba = model.predict(test_x)  # Get probabilities for the positive class\n",
    "        # y_pred = model.predict(test_x)\n",
    "\n",
    "        # test_accuracy = accuracy_score(test_y, y_pred)\n",
    "        # # print(f'Accuracy: {accuracy:.4f}')\n",
    "        # test_auc_score = roc_auc_score(test_y, y_pred_proba)\n",
    "        # # print(f'AUC Score: {auc_score:.4f}')\n",
    "        # # Print the classification report\n",
    "        # test_recall = recall_score(test_y, y_pred)\n",
    "        # # print(f'Recall Score: {recall:.4f}')\n",
    "        # test_precision = precision_score(test_y, y_pred)\n",
    "        # # print(f'AUC Score: {precision:.4f}')\n",
    "        # test_acc_list.append(test_accuracy)\n",
    "        # test_auc_list.append(test_auc_score)\n",
    "        # test_recall_list.append(test_recall)\n",
    "        # test_precision_list.append(test_precision)\n",
    "        # Save the model\n",
    "        # dump(model, f'./RFmodels_3d/RF_{fold}.joblib')\n",
    "\n",
    "print('Validation set')\n",
    "\n",
    "# print(\"Test set\")\n",
    "# get_results(test_acc_list,test_auc_list,test_recall_list,test_precision_list)\n",
    "# print('================================================')\n"
   ]
  },
  {
   "cell_type": "code",
   "execution_count": 170,
   "metadata": {},
   "outputs": [],
   "source": [
    "feature_list = []\n",
    "for key, value in Counter(features_count_list).items():\n",
    "    if value/250>=0.7:\n",
    "        feature_list.append(key)"
   ]
  },
  {
   "cell_type": "code",
   "execution_count": 21,
   "metadata": {},
   "outputs": [],
   "source": [
    "# feature_list.sort()\n",
    "Maria_list = [\n",
    "'skewness-Gradient diagonal',\n",
    "'skewness-Laws S3S3',\n",
    "'skewness-Laws E5W5',\n",
    "'Collage_kurt_Correlation_1_nb_8_ws_3',\n",
    "'Collage_skew_InformationMeasureOfCorrelation1_1_nb_8_ws_3',\n",
    "'Collage_kurt_InformationMeasureOfCorrelation2_1_nb_8_ws_3',\n",
    "'Collage_kurt_InformationMeasureOfCorrelation2_1_nb_16_ws_3',\n",
    "'Collage_kurt_AngularSecondMoment_1_nb_4_ws_5',\n",
    "'Collage_kurt_InformationMeasureOfCorrelation2_1_nb_32_ws_5',\n",
    "'skewness-Haralick correlation ws=3 n=4',\n",
    "'kurtosis-Haralick inertia ws=3 n=16'\n",
    "]"
   ]
  },
  {
   "cell_type": "code",
   "execution_count": null,
   "metadata": {},
   "outputs": [],
   "source": []
  },
  {
   "cell_type": "code",
   "execution_count": 23,
   "metadata": {},
   "outputs": [
    {
     "name": "stdout",
     "output_type": "stream",
     "text": [
      "Test set\n",
      "Recall, Average:0.5818, Std:0.0530\n",
      "precision, Average:0.4749, Std:0.0182\n",
      "Accuracy, Average:0.6704, Std:0.0144\n",
      "AUC, Average:0.6460, Std:0.0158\n",
      "================================================\n"
     ]
    }
   ],
   "source": [
    "X_train = train_center_data.drop(columns=['Center','Name','Label'])\n",
    "y_train = train_center_data[[\"Label\"]]\n",
    "\n",
    "test_x_raw = test_center_data.drop(columns=['Center','Name','Label'])\n",
    "test_y = test_center_data[[\"Label\"]]\n",
    "\n",
    "test_acc_list = []\n",
    "test_auc_list = []\n",
    "test_recall_list = []\n",
    "test_precision_list = []\n",
    "\n",
    "skf = KFold(n_splits=5, shuffle=True, random_state=1)\n",
    "features_count_list = []\n",
    "best_k = 0\n",
    "best_auc =0\n",
    "\n",
    "for train_index, val_index in skf.split(X_train, y_train):\n",
    "    train_x_raw, val_x_raw = X_train.iloc[train_index], X_train.iloc[val_index]\n",
    "    train_y, val_y = y_train.iloc[train_index], y_train.iloc[val_index]\n",
    "\n",
    "    standard_scaler = StandardScaler()\n",
    "    train_x_scaled = pd.DataFrame(standard_scaler.fit_transform(train_x_raw),columns=train_x_raw.columns)\n",
    "    val_x_scaled = pd.DataFrame(standard_scaler.transform(val_x_raw),columns=val_x_raw.columns)\n",
    "    test_x_scaled = pd.DataFrame(standard_scaler.transform(test_x_raw),columns=test_x_raw.columns)\n",
    "\n",
    "    train_x = train_x_scaled[Maria_list]\n",
    "    val_x = val_x_scaled[Maria_list]\n",
    "    test_x = test_x_scaled[Maria_list]\n",
    "\n",
    "    model = RandomForestClassifier(n_estimators=51, random_state=42)\n",
    "    model.fit(train_x, train_y)\n",
    "# --------------------validation----------------------\n",
    "    # y_pred_proba = model.predict(val_x)  # Get probabilities for the positive class\n",
    "    # y_pred = model.predict(val_x)\n",
    "\n",
    "    # val_accuracy = accuracy_score(val_y, y_pred)\n",
    "    # # print(f'Accuracy: {accuracy:.4f}')\n",
    "    # val_auc_score = roc_auc_score(val_y, y_pred_proba,average='micro')\n",
    "    # # print(f'AUC Score: {auc_score:.4f}')\n",
    "    # val_recall = recall_score(val_y, y_pred)\n",
    "    # # print(f'Recall Score: {recall:.4f}')\n",
    "    # val_precision = precision_score(val_y, y_pred)\n",
    "    # # print(f'AUC Score: {precision:.4f}')\n",
    "    # val_acc_list.append(val_accuracy)\n",
    "    # val_auc_list.append(val_auc_score)\n",
    "    # val_recall_list.append(val_recall)\n",
    "    # val_precision_list.append(val_precision)\n",
    "\n",
    "# --------------------test----------------------\n",
    "    y_pred_proba = model.predict(test_x)  # Get probabilities for the positive class\n",
    "    y_pred = model.predict(test_x)\n",
    "\n",
    "    test_accuracy = accuracy_score(test_y, y_pred)\n",
    "    # print(f'Accuracy: {accuracy:.4f}')\n",
    "    test_auc_score = roc_auc_score(test_y, y_pred_proba)\n",
    "    # print(f'AUC Score: {auc_score:.4f}')\n",
    "    # Print the classification report\n",
    "    test_recall = recall_score(test_y, y_pred)\n",
    "    # print(f'Recall Score: {recall:.4f}')\n",
    "    test_precision = precision_score(test_y, y_pred)\n",
    "    # print(f'AUC Score: {precision:.4f}')\n",
    "    test_acc_list.append(test_accuracy)\n",
    "    test_auc_list.append(test_auc_score)\n",
    "    test_recall_list.append(test_recall)\n",
    "    test_precision_list.append(test_precision)\n",
    "    # Save the model\n",
    "    # dump(model, f'./RFmodels_3d/RF_{fold}.joblib')\n",
    "\n",
    "print(\"Test set\")\n",
    "get_results(test_acc_list,test_auc_list,test_recall_list,test_precision_list)\n",
    "print('================================================')\n"
   ]
  }
 ],
 "metadata": {
  "kernelspec": {
   "display_name": "monai",
   "language": "python",
   "name": "python3"
  },
  "language_info": {
   "codemirror_mode": {
    "name": "ipython",
    "version": 3
   },
   "file_extension": ".py",
   "mimetype": "text/x-python",
   "name": "python",
   "nbconvert_exporter": "python",
   "pygments_lexer": "ipython3",
   "version": "3.10.15"
  }
 },
 "nbformat": 4,
 "nbformat_minor": 2
}

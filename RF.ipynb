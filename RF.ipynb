{
 "cells": [
  {
   "cell_type": "code",
   "execution_count": null,
   "metadata": {},
   "outputs": [],
   "source": [
    "import pandas as pd\n",
    "from sklearn.preprocessing import MinMaxScaler, StandardScaler\n",
    "import pandas as pd\n",
    "from sklearn.model_selection import train_test_split\n",
    "from sklearn.ensemble import RandomForestClassifier\n",
    "from sklearn.metrics import accuracy_score,roc_auc_score,classification_report,recall_score,precision_score\n",
    "from sklearn.svm import SVC\n",
    "import numpy as np\n",
    "from sklearn.model_selection import KFold\n",
    "import json\n",
    "from joblib import dump, load"
   ]
  },
  {
   "cell_type": "code",
   "execution_count": 2,
   "metadata": {},
   "outputs": [],
   "source": [
    "features_2d = pd.read_csv('./Data/2D_t2/all.csv')\n",
    "data = features_2d.drop(columns=['Center'])"
   ]
  },
  {
   "cell_type": "code",
   "execution_count": 3,
   "metadata": {},
   "outputs": [],
   "source": [
    "\n",
    "correlation = data.iloc[:,2:].corr(method='spearman')"
   ]
  },
  {
   "cell_type": "code",
   "execution_count": 5,
   "metadata": {},
   "outputs": [],
   "source": [
    "selected_features = correlation[(correlation.abs() <= 0.6) | (correlation.abs() == 1)]\n",
    "\n",
    "for i in range(200):\n",
    "    for index in range(selected_features.shape[0]):\n",
    "        row = selected_features.iloc[index]\n",
    "        to_drop = row[row.isna()].index\n",
    "        selected_features_c_droped = selected_features.drop(labels=to_drop,axis=0)\n",
    "        selected_features_r_droped = selected_features_c_droped.drop(labels=to_drop,axis=1)\n",
    "        if selected_features_r_droped.shape[0]<selected_features.shape[0]:\n",
    "            break\n",
    "    selected_features = selected_features_r_droped"
   ]
  },
  {
   "cell_type": "code",
   "execution_count": 6,
   "metadata": {},
   "outputs": [],
   "source": [
    "selected_data = data[selected_features.index.to_list()+['Label','Name']]"
   ]
  },
  {
   "cell_type": "code",
   "execution_count": 22,
   "metadata": {},
   "outputs": [
    {
     "name": "stderr",
     "output_type": "stream",
     "text": [
      "C:\\Users\\sugar\\AppData\\Local\\Temp\\ipykernel_2320\\4066838598.py:1: SettingWithCopyWarning: \n",
      "A value is trying to be set on a copy of a slice from a DataFrame.\n",
      "Try using .loc[row_indexer,col_indexer] = value instead\n",
      "\n",
      "See the caveats in the documentation: https://pandas.pydata.org/pandas-docs/stable/user_guide/indexing.html#returning-a-view-versus-a-copy\n",
      "  selected_data[\"Label\"] = selected_data['Label'].apply(lambda x: x-1)\n"
     ]
    }
   ],
   "source": [
    "selected_data[\"Label\"] = selected_data['Label'].apply(lambda x: x-1)"
   ]
  },
  {
   "cell_type": "code",
   "execution_count": 9,
   "metadata": {},
   "outputs": [],
   "source": [
    "def get_results(acc_list,auc_list,recall_list,precision_list):    \n",
    "    acc_list = np.array(acc_list)\n",
    "    auc_list = np.array(auc_list)\n",
    "    recall_list = np.array(recall_list)\n",
    "    precision_list = np.array(precision_list)\n",
    "    print(f'Recall, Average:{recall_list.mean():.4f}, Std:{recall_list.std():.4f}')\n",
    "    print(f'precision, Average:{precision_list.mean():.4f}, Std:{precision_list.std():.4f}')\n",
    "    print(f'Accuracy, Average:{acc_list.mean():.4f}, Std:{acc_list.std():.4f}')\n",
    "    print(f'AUC, Average:{auc_list.mean():.4f}, Std:{auc_list.std():.4f}')"
   ]
  },
  {
   "cell_type": "code",
   "execution_count": null,
   "metadata": {},
   "outputs": [
    {
     "name": "stderr",
     "output_type": "stream",
     "text": [
      "f:\\Anaconda3\\envs\\monai\\Lib\\site-packages\\sklearn\\base.py:1351: DataConversionWarning: A column-vector y was passed when a 1d array was expected. Please change the shape of y to (n_samples,), for example using ravel().\n",
      "  return fit_method(estimator, *args, **kwargs)\n"
     ]
    },
    {
     "name": "stdout",
     "output_type": "stream",
     "text": [
      "[0 0 1 0 0 0 0 1 1 0 0 0 1 1 1 1 1 1 0 1 0 1 1 0 1 1 0 0 0 0 1 1 0 1 1 1 0\n",
      " 0 0 0 0 0 0 0 0 0 0 0 0 0 0 0 0 0 0 0 0 0 0 1 0 0 0 0 1 0 1]\n",
      "     Label\n",
      "3        0\n",
      "5        1\n",
      "9        1\n",
      "15       1\n",
      "22       0\n",
      "..     ...\n",
      "345      0\n",
      "346      0\n",
      "349      0\n",
      "352      0\n",
      "354      0\n",
      "\n",
      "[67 rows x 1 columns]\n"
     ]
    },
    {
     "name": "stderr",
     "output_type": "stream",
     "text": [
      "f:\\Anaconda3\\envs\\monai\\Lib\\site-packages\\sklearn\\base.py:1351: DataConversionWarning: A column-vector y was passed when a 1d array was expected. Please change the shape of y to (n_samples,), for example using ravel().\n",
      "  return fit_method(estimator, *args, **kwargs)\n"
     ]
    },
    {
     "name": "stdout",
     "output_type": "stream",
     "text": [
      "[1 0 0 0 0 1 0 1 1 0 1 1 1 0 0 1 0 0 1 1 0 0 0 0 0 1 0 1 0 1 1 1 1 0 0 0 0\n",
      " 0 0 0 1 0 0 0 0 0 0 0 1 1 1 0 0 0 0 0 0 0 1 0 0 0]\n",
      "     Label\n",
      "6        1\n",
      "7        0\n",
      "10       0\n",
      "16       1\n",
      "17       0\n",
      "..     ...\n",
      "333      0\n",
      "334      1\n",
      "335      0\n",
      "342      0\n",
      "353      0\n",
      "\n",
      "[62 rows x 1 columns]\n"
     ]
    },
    {
     "name": "stderr",
     "output_type": "stream",
     "text": [
      "f:\\Anaconda3\\envs\\monai\\Lib\\site-packages\\sklearn\\base.py:1351: DataConversionWarning: A column-vector y was passed when a 1d array was expected. Please change the shape of y to (n_samples,), for example using ravel().\n",
      "  return fit_method(estimator, *args, **kwargs)\n"
     ]
    },
    {
     "name": "stdout",
     "output_type": "stream",
     "text": [
      "[0 0 0 0 0 0 1 0 1 1 1 1 0 1 0 0 0 0 0 0 0 1 1 0 0 1 0 0 0 0 1 1 0 0 0 0 0\n",
      " 0 0 0 0 0 0 0 0 0 1 0 0 0 0 0 0 0 1 1 1 0 0 0 0 0 0 0 0 0]\n",
      "     Label\n",
      "2        0\n",
      "11       0\n",
      "23       0\n",
      "29       0\n",
      "37       0\n",
      "..     ...\n",
      "330      0\n",
      "336      0\n",
      "338      0\n",
      "339      1\n",
      "344      0\n",
      "\n",
      "[66 rows x 1 columns]\n"
     ]
    },
    {
     "name": "stderr",
     "output_type": "stream",
     "text": [
      "f:\\Anaconda3\\envs\\monai\\Lib\\site-packages\\sklearn\\base.py:1351: DataConversionWarning: A column-vector y was passed when a 1d array was expected. Please change the shape of y to (n_samples,), for example using ravel().\n",
      "  return fit_method(estimator, *args, **kwargs)\n"
     ]
    },
    {
     "name": "stdout",
     "output_type": "stream",
     "text": [
      "[1 0 1 0 0 0 1 0 0 0 0 0 0 1 0 0 0 1 1 0 1 0 1 1 0 0 1 0 0 0 0 0 0 0 0 0 0\n",
      " 0 0 0 0 0 0 0 0 0 0 0 0 0 0 1 1 0 0 1 0 0 1 1 0 0 1]\n",
      "     Label\n",
      "0        0\n",
      "4        0\n",
      "8        0\n",
      "12       0\n",
      "14       0\n",
      "..     ...\n",
      "325      1\n",
      "328      0\n",
      "341      0\n",
      "350      0\n",
      "356      0\n",
      "\n",
      "[63 rows x 1 columns]\n"
     ]
    },
    {
     "name": "stderr",
     "output_type": "stream",
     "text": [
      "f:\\Anaconda3\\envs\\monai\\Lib\\site-packages\\sklearn\\base.py:1351: DataConversionWarning: A column-vector y was passed when a 1d array was expected. Please change the shape of y to (n_samples,), for example using ravel().\n",
      "  return fit_method(estimator, *args, **kwargs)\n"
     ]
    },
    {
     "name": "stdout",
     "output_type": "stream",
     "text": [
      "[0 0 0 0 1 1 0 1 1 1 1 1 0 1 1 0 0 0 0 1 1 0 1 0 0 0 1 1 0 0 0 0 0 0 0 0 0\n",
      " 0 0 1 0 0 0 0 0 0 0 0 0 0 0 1 0 0 0 1 0 1 0 0 1 0 0 1 0]\n",
      "     Label\n",
      "1        0\n",
      "13       0\n",
      "20       0\n",
      "21       0\n",
      "34       0\n",
      "..     ...\n",
      "347      0\n",
      "348      0\n",
      "351      1\n",
      "355      1\n",
      "357      0\n",
      "\n",
      "[65 rows x 1 columns]\n",
      "Validation set\n",
      "Recall, Average:0.4921, Std:0.1070\n",
      "precision, Average:0.6713, Std:0.1443\n",
      "Accuracy, Average:0.7015, Std:0.0745\n",
      "AUC, Average:0.6660, Std:0.0766\n",
      "================================================\n"
     ]
    }
   ],
   "source": [
    "val_acc_list = []\n",
    "val_auc_list = []\n",
    "val_recall_list = []\n",
    "val_precision_list = []\n",
    "\n",
    "test_acc_list = []\n",
    "test_auc_list = []\n",
    "test_recall_list = []\n",
    "test_precision_list = []\n",
    "\n",
    "\n",
    "\n",
    "for fold in range(1,6):\n",
    "    with open(\"Fold_data.json\", \"r\") as file:\n",
    "        fold_data = json.load(file)\n",
    "    # Radiomics features for training and testing\n",
    "    train_list = fold_data[f'Fold{fold}']['train']\n",
    "    test_list = fold_data[f'Fold{fold}']['test']\n",
    "    train_data = selected_data[selected_data[\"Name\"].isin(train_list)]\n",
    "    test_data = selected_data[selected_data[\"Name\"].isin(test_list)]\n",
    "    \n",
    "    # print(train_data.shape)\n",
    "    train_y = train_data[['Label']]\n",
    "    train_x = train_data.iloc[:,:-2]\n",
    "\n",
    "    test_y = test_data[['Label']]\n",
    "    test_x = test_data.iloc[:,:-2]\n",
    "\n",
    "    standard_scaler = StandardScaler()\n",
    "    train_x = standard_scaler.fit_transform(train_x)\n",
    "    test_x = standard_scaler.transform(test_x)\n",
    "\n",
    "    model = RandomForestClassifier(n_estimators=200, random_state=42,max_depth=20)\n",
    "    model.fit(train_x, train_y)\n",
    "\n",
    "    y_pred_proba = model.predict(test_x)  # Get probabilities for the positive class\n",
    "    y_pred = model.predict(test_x)\n",
    "\n",
    "    accuracy = accuracy_score(test_y, y_pred)\n",
    "    # print(f'Accuracy: {accuracy:.4f}')\n",
    "    auc_score = roc_auc_score(test_y, y_pred_proba)\n",
    "    # print(f'AUC Score: {auc_score:.4f}')\n",
    "    # Print the classification report\n",
    "    recall = recall_score(test_y, y_pred)\n",
    "    # print(f'Recall Score: {recall:.4f}')\n",
    "    precision = precision_score(test_y, y_pred)\n",
    "    # print(f'AUC Score: {precision:.4f}')\n",
    "\n",
    "    val_acc_list.append(accuracy)\n",
    "    val_auc_list.append(auc_score)\n",
    "    val_recall_list.append(recall)\n",
    "    val_precision_list.append(precision)\n",
    "    # Save the model\n",
    "    dump(model, f'./RFmodels/RF_{fold}.joblib')\n",
    "    \n",
    "print('Validation set')\n",
    "get_results(val_acc_list,val_auc_list,val_recall_list,val_precision_list)\n",
    "# print('--------------------')\n",
    "# print(\"Test set\")\n",
    "# get_results(test_acc_list,test_auc_list,test_recall_list,test_precision_list)\n",
    "print('================================================')"
   ]
  },
  {
   "cell_type": "code",
   "execution_count": 30,
   "metadata": {},
   "outputs": [
    {
     "data": {
      "text/html": [
       "<div>\n",
       "<style scoped>\n",
       "    .dataframe tbody tr th:only-of-type {\n",
       "        vertical-align: middle;\n",
       "    }\n",
       "\n",
       "    .dataframe tbody tr th {\n",
       "        vertical-align: top;\n",
       "    }\n",
       "\n",
       "    .dataframe thead th {\n",
       "        text-align: right;\n",
       "    }\n",
       "</style>\n",
       "<table border=\"1\" class=\"dataframe\">\n",
       "  <thead>\n",
       "    <tr style=\"text-align: right;\">\n",
       "      <th></th>\n",
       "      <th>Label</th>\n",
       "    </tr>\n",
       "  </thead>\n",
       "  <tbody>\n",
       "    <tr>\n",
       "      <th>3</th>\n",
       "      <td>0</td>\n",
       "    </tr>\n",
       "    <tr>\n",
       "      <th>5</th>\n",
       "      <td>1</td>\n",
       "    </tr>\n",
       "    <tr>\n",
       "      <th>9</th>\n",
       "      <td>1</td>\n",
       "    </tr>\n",
       "    <tr>\n",
       "      <th>15</th>\n",
       "      <td>1</td>\n",
       "    </tr>\n",
       "    <tr>\n",
       "      <th>22</th>\n",
       "      <td>0</td>\n",
       "    </tr>\n",
       "    <tr>\n",
       "      <th>...</th>\n",
       "      <td>...</td>\n",
       "    </tr>\n",
       "    <tr>\n",
       "      <th>345</th>\n",
       "      <td>0</td>\n",
       "    </tr>\n",
       "    <tr>\n",
       "      <th>346</th>\n",
       "      <td>0</td>\n",
       "    </tr>\n",
       "    <tr>\n",
       "      <th>349</th>\n",
       "      <td>0</td>\n",
       "    </tr>\n",
       "    <tr>\n",
       "      <th>352</th>\n",
       "      <td>0</td>\n",
       "    </tr>\n",
       "    <tr>\n",
       "      <th>354</th>\n",
       "      <td>0</td>\n",
       "    </tr>\n",
       "  </tbody>\n",
       "</table>\n",
       "<p>67 rows × 1 columns</p>\n",
       "</div>"
      ],
      "text/plain": [
       "     Label\n",
       "3        0\n",
       "5        1\n",
       "9        1\n",
       "15       1\n",
       "22       0\n",
       "..     ...\n",
       "345      0\n",
       "346      0\n",
       "349      0\n",
       "352      0\n",
       "354      0\n",
       "\n",
       "[67 rows x 1 columns]"
      ]
     },
     "execution_count": 30,
     "metadata": {},
     "output_type": "execute_result"
    }
   ],
   "source": [
    "test_y"
   ]
  }
 ],
 "metadata": {
  "kernelspec": {
   "display_name": "monai",
   "language": "python",
   "name": "python3"
  },
  "language_info": {
   "codemirror_mode": {
    "name": "ipython",
    "version": 3
   },
   "file_extension": ".py",
   "mimetype": "text/x-python",
   "name": "python",
   "nbconvert_exporter": "python",
   "pygments_lexer": "ipython3",
   "version": "3.12.1"
  }
 },
 "nbformat": 4,
 "nbformat_minor": 2
}

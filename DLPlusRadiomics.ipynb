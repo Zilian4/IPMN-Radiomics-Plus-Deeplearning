{
 "cells": [
  {
   "cell_type": "code",
   "execution_count": 44,
   "metadata": {},
   "outputs": [],
   "source": [
    "import pandas as pd\n",
    "from sklearn.preprocessing import MinMaxScaler, StandardScaler\n",
    "import pandas as pd\n",
    "from sklearn.model_selection import train_test_split\n",
    "from sklearn.ensemble import RandomForestClassifier\n",
    "from sklearn.metrics import accuracy_score,roc_auc_score,classification_report,recall_score,precision_score\n",
    "from sklearn.svm import SVC\n",
    "import numpy as np\n",
    "from sklearn.model_selection import KFold\n",
    "from utils.eval import get_results\n",
    "import json\n",
    "from monai.networks.nets import DenseNet121\n",
    "import torch\n",
    "from monai.data import DataLoader, ImageDataset\n",
    "from monai.transforms import RandRotate90, Resize, EnsureChannelFirst, Compose, ScaleIntensity,RandAxisFlip\n",
    "import os\n",
    "from tqdm import tqdm\n",
    "from joblib import dump, load\n",
    "from sklearn.preprocessing import label_binarize\n",
    "from sklearn.linear_model import LogisticRegression,LinearRegression\n",
    "from sklearn.metrics import mean_squared_error"
   ]
  },
  {
   "cell_type": "code",
   "execution_count": 45,
   "metadata": {},
   "outputs": [],
   "source": [
    "def get_densenet_probabilities(densenet_model, test_dataloader):\n",
    "    prediction_list = []\n",
    "    with torch.no_grad(): \n",
    "        progress_bar = tqdm(test_dataloader, desc=\"Testing\")\n",
    "    for X, y in progress_bar:\n",
    "        X = X.to('cuda')\n",
    "        pred = densenet_model(X)\n",
    "        prediction_list.append(torch.nn.functional.softmax(pred, dim=-1).cpu().detach().numpy().reshape(2))\n",
    "    return np.array(prediction_list)\n",
    "\n",
    "def get_rf_probabilities(model, radiomics_data):\n",
    "    probs = model.predict_proba(radiomics_data)  # Output probabilities for each class\n",
    "    return probs"
   ]
  },
  {
   "cell_type": "code",
   "execution_count": null,
   "metadata": {},
   "outputs": [],
   "source": [
    "def train_fusion_model(densenet_model, rf_model, image_dataloader, radiomics_data,labels):\n",
    "    densenet_probs = get_densenet_probabilities(densenet_model, image_dataloader)\n",
    "    rf_probs = get_rf_probabilities(rf_model, radiomics_data)\n",
    "    fusion_features = np.hstack([densenet_probs, rf_probs])\n",
    "    # fusion_features = np.hstack([densenet_probs[:,1].reshape(len(labels),1), rf_probs[:,1].reshape(len(labels),1)])\n",
    "    print(fusion_features.shape)\n",
    "    model = LogisticRegression()\n",
    "    model.fit(fusion_features, labels)\n",
    "    return model\n",
    "\n",
    "def predict_with_fusion_model(densenet_model, rf_model, fusion_model,image_dataloader, radiomics_data):\n",
    "    densenet_probs = get_densenet_probabilities(densenet_model, image_dataloader)\n",
    "    rf_probs = get_rf_probabilities(rf_model, radiomics_data)\n",
    "    # Combine probabilities for the fusion model  \n",
    "    fusion_features = np.hstack([densenet_probs, rf_probs])\n",
    "    # fusion_features = np.hstack([densenet_probs[:,1].reshape(len(radiomics_data),1), rf_probs[:,1].reshape(len(radiomics_data),1)])\n",
    "    fusion_predictoin = fusion_model.predict(fusion_features)\n",
    "    fusion_proba = fusion_model.predict_proba(fusion_features)\n",
    "    return fusion_predictoin,fusion_proba"
   ]
  },
  {
   "cell_type": "markdown",
   "metadata": {},
   "source": [
    "Read radiomics data"
   ]
  },
  {
   "cell_type": "code",
   "execution_count": 47,
   "metadata": {},
   "outputs": [
    {
     "name": "stderr",
     "output_type": "stream",
     "text": [
      "C:\\Users\\sugar\\AppData\\Local\\Temp\\ipykernel_28520\\682233300.py:16: SettingWithCopyWarning: \n",
      "A value is trying to be set on a copy of a slice from a DataFrame.\n",
      "Try using .loc[row_indexer,col_indexer] = value instead\n",
      "\n",
      "See the caveats in the documentation: https://pandas.pydata.org/pandas-docs/stable/user_guide/indexing.html#returning-a-view-versus-a-copy\n",
      "  selected_data['Label'] = selected_data['Label'].apply(lambda x: x-1)\n"
     ]
    }
   ],
   "source": [
    "# Get features\n",
    "features = pd.read_csv('./Data/2D_t2/all.csv')\n",
    "data = features.drop(columns=['Center'])\n",
    "correlation = data.iloc[:,2:].corr(method='spearman')\n",
    "selected_features = correlation[(correlation.abs() <= 0.6) | (correlation.abs() == 1)]\n",
    "for i in range(200):\n",
    "    for index in range(selected_features.shape[0]):\n",
    "        row = selected_features.iloc[index]\n",
    "        to_drop = row[row.isna()].index\n",
    "        selected_features_c_droped = selected_features.drop(labels=to_drop,axis=0)\n",
    "        selected_features_r_droped = selected_features_c_droped.drop(labels=to_drop,axis=1)\n",
    "        if selected_features_r_droped.shape[0]<selected_features.shape[0]:\n",
    "            break\n",
    "    selected_features = selected_features_r_droped\n",
    "selected_data = data[selected_features.index.to_list()+['Label','Name']]\n",
    "selected_data['Label'] = selected_data['Label'].apply(lambda x: x-1)"
   ]
  },
  {
   "cell_type": "markdown",
   "metadata": {},
   "source": [
    "Organize label"
   ]
  },
  {
   "cell_type": "code",
   "execution_count": 48,
   "metadata": {},
   "outputs": [],
   "source": [
    "with open(\"Fold_data.json\", \"r\") as file:\n",
    "    fold_data = json.load(file)"
   ]
  },
  {
   "cell_type": "code",
   "execution_count": 49,
   "metadata": {},
   "outputs": [
    {
     "name": "stderr",
     "output_type": "stream",
     "text": [
      "<>:22: SyntaxWarning: invalid escape sequence '\\M'\n",
      "<>:22: SyntaxWarning: invalid escape sequence '\\M'\n",
      "C:\\Users\\sugar\\AppData\\Local\\Temp\\ipykernel_28520\\91973835.py:22: SyntaxWarning: invalid escape sequence '\\M'\n",
      "  rf_model = load(f'F:\\Myproject\\IPMN-Radiomics-Plus-Deeplearning\\RFmodels\\RF_{fold}.joblib')\n",
      "C:\\Users\\sugar\\AppData\\Local\\Temp\\ipykernel_28520\\91973835.py:15: SettingWithCopyWarning: \n",
      "A value is trying to be set on a copy of a slice from a DataFrame.\n",
      "Try using .loc[row_indexer,col_indexer] = value instead\n",
      "\n",
      "See the caveats in the documentation: https://pandas.pydata.org/pandas-docs/stable/user_guide/indexing.html#returning-a-view-versus-a-copy\n",
      "  test_label_and_path['Name'] = test_label_and_path['Name'].apply(lambda x: x + '.nii.gz')\n",
      "C:\\Users\\sugar\\AppData\\Local\\Temp\\ipykernel_28520\\91973835.py:20: SettingWithCopyWarning: \n",
      "A value is trying to be set on a copy of a slice from a DataFrame.\n",
      "Try using .loc[row_indexer,col_indexer] = value instead\n",
      "\n",
      "See the caveats in the documentation: https://pandas.pydata.org/pandas-docs/stable/user_guide/indexing.html#returning-a-view-versus-a-copy\n",
      "  train_label_and_path['Name'] = train_label_and_path['Name'].apply(lambda x: x + '.nii.gz')\n",
      "Testing: 100%|██████████| 256/256 [00:18<00:00, 13.95it/s]\n",
      "f:\\Anaconda3\\envs\\monai\\Lib\\site-packages\\sklearn\\base.py:486: UserWarning: X has feature names, but RandomForestClassifier was fitted without feature names\n",
      "  warnings.warn(\n",
      "f:\\Anaconda3\\envs\\monai\\Lib\\site-packages\\sklearn\\utils\\validation.py:1229: DataConversionWarning: A column-vector y was passed when a 1d array was expected. Please change the shape of y to (n_samples, ), for example using ravel().\n",
      "  y = column_or_1d(y, warn=True)\n"
     ]
    },
    {
     "name": "stdout",
     "output_type": "stream",
     "text": [
      "(256, 4)\n"
     ]
    },
    {
     "name": "stderr",
     "output_type": "stream",
     "text": [
      "Testing: 100%|██████████| 67/67 [00:08<00:00,  8.30it/s]\n",
      "f:\\Anaconda3\\envs\\monai\\Lib\\site-packages\\sklearn\\base.py:486: UserWarning: X has feature names, but RandomForestClassifier was fitted without feature names\n",
      "  warnings.warn(\n",
      "C:\\Users\\sugar\\AppData\\Local\\Temp\\ipykernel_28520\\91973835.py:15: SettingWithCopyWarning: \n",
      "A value is trying to be set on a copy of a slice from a DataFrame.\n",
      "Try using .loc[row_indexer,col_indexer] = value instead\n",
      "\n",
      "See the caveats in the documentation: https://pandas.pydata.org/pandas-docs/stable/user_guide/indexing.html#returning-a-view-versus-a-copy\n",
      "  test_label_and_path['Name'] = test_label_and_path['Name'].apply(lambda x: x + '.nii.gz')\n",
      "C:\\Users\\sugar\\AppData\\Local\\Temp\\ipykernel_28520\\91973835.py:20: SettingWithCopyWarning: \n",
      "A value is trying to be set on a copy of a slice from a DataFrame.\n",
      "Try using .loc[row_indexer,col_indexer] = value instead\n",
      "\n",
      "See the caveats in the documentation: https://pandas.pydata.org/pandas-docs/stable/user_guide/indexing.html#returning-a-view-versus-a-copy\n",
      "  train_label_and_path['Name'] = train_label_and_path['Name'].apply(lambda x: x + '.nii.gz')\n"
     ]
    },
    {
     "name": "stdout",
     "output_type": "stream",
     "text": [
      "Accuracy: 0.6567\n",
      "AUC Score: 0.7786\n",
      "Recall Score: 0.2759\n",
      "Recall Score: 0.8000\n"
     ]
    },
    {
     "name": "stderr",
     "output_type": "stream",
     "text": [
      "Testing: 100%|██████████| 261/261 [00:17<00:00, 14.73it/s]\n",
      "f:\\Anaconda3\\envs\\monai\\Lib\\site-packages\\sklearn\\base.py:486: UserWarning: X has feature names, but RandomForestClassifier was fitted without feature names\n",
      "  warnings.warn(\n",
      "f:\\Anaconda3\\envs\\monai\\Lib\\site-packages\\sklearn\\utils\\validation.py:1229: DataConversionWarning: A column-vector y was passed when a 1d array was expected. Please change the shape of y to (n_samples, ), for example using ravel().\n",
      "  y = column_or_1d(y, warn=True)\n"
     ]
    },
    {
     "name": "stdout",
     "output_type": "stream",
     "text": [
      "(261, 4)\n"
     ]
    },
    {
     "name": "stderr",
     "output_type": "stream",
     "text": [
      "Testing: 100%|██████████| 62/62 [00:07<00:00,  7.97it/s]\n",
      "f:\\Anaconda3\\envs\\monai\\Lib\\site-packages\\sklearn\\base.py:486: UserWarning: X has feature names, but RandomForestClassifier was fitted without feature names\n",
      "  warnings.warn(\n",
      "C:\\Users\\sugar\\AppData\\Local\\Temp\\ipykernel_28520\\91973835.py:15: SettingWithCopyWarning: \n",
      "A value is trying to be set on a copy of a slice from a DataFrame.\n",
      "Try using .loc[row_indexer,col_indexer] = value instead\n",
      "\n",
      "See the caveats in the documentation: https://pandas.pydata.org/pandas-docs/stable/user_guide/indexing.html#returning-a-view-versus-a-copy\n",
      "  test_label_and_path['Name'] = test_label_and_path['Name'].apply(lambda x: x + '.nii.gz')\n",
      "C:\\Users\\sugar\\AppData\\Local\\Temp\\ipykernel_28520\\91973835.py:20: SettingWithCopyWarning: \n",
      "A value is trying to be set on a copy of a slice from a DataFrame.\n",
      "Try using .loc[row_indexer,col_indexer] = value instead\n",
      "\n",
      "See the caveats in the documentation: https://pandas.pydata.org/pandas-docs/stable/user_guide/indexing.html#returning-a-view-versus-a-copy\n",
      "  train_label_and_path['Name'] = train_label_and_path['Name'].apply(lambda x: x + '.nii.gz')\n"
     ]
    },
    {
     "name": "stdout",
     "output_type": "stream",
     "text": [
      "Accuracy: 0.7097\n",
      "AUC Score: 0.7178\n",
      "Recall Score: 0.5238\n",
      "Recall Score: 0.5789\n"
     ]
    },
    {
     "name": "stderr",
     "output_type": "stream",
     "text": [
      "Testing: 100%|██████████| 257/257 [00:18<00:00, 14.27it/s]\n",
      "f:\\Anaconda3\\envs\\monai\\Lib\\site-packages\\sklearn\\base.py:486: UserWarning: X has feature names, but RandomForestClassifier was fitted without feature names\n",
      "  warnings.warn(\n",
      "f:\\Anaconda3\\envs\\monai\\Lib\\site-packages\\sklearn\\utils\\validation.py:1229: DataConversionWarning: A column-vector y was passed when a 1d array was expected. Please change the shape of y to (n_samples, ), for example using ravel().\n",
      "  y = column_or_1d(y, warn=True)\n"
     ]
    },
    {
     "name": "stdout",
     "output_type": "stream",
     "text": [
      "(257, 4)\n"
     ]
    },
    {
     "name": "stderr",
     "output_type": "stream",
     "text": [
      "Testing: 100%|██████████| 66/66 [00:08<00:00,  8.15it/s]\n",
      "f:\\Anaconda3\\envs\\monai\\Lib\\site-packages\\sklearn\\base.py:486: UserWarning: X has feature names, but RandomForestClassifier was fitted without feature names\n",
      "  warnings.warn(\n",
      "C:\\Users\\sugar\\AppData\\Local\\Temp\\ipykernel_28520\\91973835.py:15: SettingWithCopyWarning: \n",
      "A value is trying to be set on a copy of a slice from a DataFrame.\n",
      "Try using .loc[row_indexer,col_indexer] = value instead\n",
      "\n",
      "See the caveats in the documentation: https://pandas.pydata.org/pandas-docs/stable/user_guide/indexing.html#returning-a-view-versus-a-copy\n",
      "  test_label_and_path['Name'] = test_label_and_path['Name'].apply(lambda x: x + '.nii.gz')\n",
      "C:\\Users\\sugar\\AppData\\Local\\Temp\\ipykernel_28520\\91973835.py:20: SettingWithCopyWarning: \n",
      "A value is trying to be set on a copy of a slice from a DataFrame.\n",
      "Try using .loc[row_indexer,col_indexer] = value instead\n",
      "\n",
      "See the caveats in the documentation: https://pandas.pydata.org/pandas-docs/stable/user_guide/indexing.html#returning-a-view-versus-a-copy\n",
      "  train_label_and_path['Name'] = train_label_and_path['Name'].apply(lambda x: x + '.nii.gz')\n"
     ]
    },
    {
     "name": "stdout",
     "output_type": "stream",
     "text": [
      "Accuracy: 0.6818\n",
      "AUC Score: 0.7990\n",
      "Recall Score: 0.2000\n",
      "Recall Score: 0.8333\n"
     ]
    },
    {
     "name": "stderr",
     "output_type": "stream",
     "text": [
      "Testing: 100%|██████████| 260/260 [00:18<00:00, 14.05it/s]\n",
      "f:\\Anaconda3\\envs\\monai\\Lib\\site-packages\\sklearn\\base.py:486: UserWarning: X has feature names, but RandomForestClassifier was fitted without feature names\n",
      "  warnings.warn(\n",
      "f:\\Anaconda3\\envs\\monai\\Lib\\site-packages\\sklearn\\utils\\validation.py:1229: DataConversionWarning: A column-vector y was passed when a 1d array was expected. Please change the shape of y to (n_samples, ), for example using ravel().\n",
      "  y = column_or_1d(y, warn=True)\n"
     ]
    },
    {
     "name": "stdout",
     "output_type": "stream",
     "text": [
      "(260, 4)\n"
     ]
    },
    {
     "name": "stderr",
     "output_type": "stream",
     "text": [
      "Testing: 100%|██████████| 63/63 [00:07<00:00,  7.89it/s]\n",
      "f:\\Anaconda3\\envs\\monai\\Lib\\site-packages\\sklearn\\base.py:486: UserWarning: X has feature names, but RandomForestClassifier was fitted without feature names\n",
      "  warnings.warn(\n",
      "C:\\Users\\sugar\\AppData\\Local\\Temp\\ipykernel_28520\\91973835.py:15: SettingWithCopyWarning: \n",
      "A value is trying to be set on a copy of a slice from a DataFrame.\n",
      "Try using .loc[row_indexer,col_indexer] = value instead\n",
      "\n",
      "See the caveats in the documentation: https://pandas.pydata.org/pandas-docs/stable/user_guide/indexing.html#returning-a-view-versus-a-copy\n",
      "  test_label_and_path['Name'] = test_label_and_path['Name'].apply(lambda x: x + '.nii.gz')\n",
      "C:\\Users\\sugar\\AppData\\Local\\Temp\\ipykernel_28520\\91973835.py:20: SettingWithCopyWarning: \n",
      "A value is trying to be set on a copy of a slice from a DataFrame.\n",
      "Try using .loc[row_indexer,col_indexer] = value instead\n",
      "\n",
      "See the caveats in the documentation: https://pandas.pydata.org/pandas-docs/stable/user_guide/indexing.html#returning-a-view-versus-a-copy\n",
      "  train_label_and_path['Name'] = train_label_and_path['Name'].apply(lambda x: x + '.nii.gz')\n"
     ]
    },
    {
     "name": "stdout",
     "output_type": "stream",
     "text": [
      "Accuracy: 0.6032\n",
      "AUC Score: 0.6211\n",
      "Recall Score: 0.1600\n",
      "Recall Score: 0.5000\n"
     ]
    },
    {
     "name": "stderr",
     "output_type": "stream",
     "text": [
      "Testing: 100%|██████████| 258/258 [00:18<00:00, 14.20it/s]\n",
      "f:\\Anaconda3\\envs\\monai\\Lib\\site-packages\\sklearn\\base.py:486: UserWarning: X has feature names, but RandomForestClassifier was fitted without feature names\n",
      "  warnings.warn(\n",
      "f:\\Anaconda3\\envs\\monai\\Lib\\site-packages\\sklearn\\utils\\validation.py:1229: DataConversionWarning: A column-vector y was passed when a 1d array was expected. Please change the shape of y to (n_samples, ), for example using ravel().\n",
      "  y = column_or_1d(y, warn=True)\n"
     ]
    },
    {
     "name": "stdout",
     "output_type": "stream",
     "text": [
      "(258, 4)\n"
     ]
    },
    {
     "name": "stderr",
     "output_type": "stream",
     "text": [
      "Testing: 100%|██████████| 65/65 [00:08<00:00,  7.93it/s]"
     ]
    },
    {
     "name": "stdout",
     "output_type": "stream",
     "text": [
      "Accuracy: 0.5846\n",
      "AUC Score: 0.6351\n",
      "Recall Score: 0.0357\n",
      "Recall Score: 1.0000\n"
     ]
    },
    {
     "name": "stderr",
     "output_type": "stream",
     "text": [
      "\n",
      "f:\\Anaconda3\\envs\\monai\\Lib\\site-packages\\sklearn\\base.py:486: UserWarning: X has feature names, but RandomForestClassifier was fitted without feature names\n",
      "  warnings.warn(\n"
     ]
    }
   ],
   "source": [
    "test_acc_list = []\n",
    "test_auc_list = []\n",
    "test_recall_list = []\n",
    "test_precision_list = []\n",
    "\n",
    "for fold in range(1,6):\n",
    "    train_list = fold_data[f'Fold{fold}']['train']\n",
    "    test_list = fold_data[f'Fold{fold}']['test']\n",
    "    train_data = selected_data[selected_data[\"Name\"].isin(train_list)]\n",
    "    test_data = selected_data[selected_data[\"Name\"].isin(test_list)]\n",
    "\n",
    "    test_label = test_data[['Label']]\n",
    "    test_features = test_data.iloc[:,:-2]\n",
    "    test_label_and_path = test_data[['Name','Label']]\n",
    "    test_label_and_path['Name'] = test_label_and_path['Name'].apply(lambda x: x + '.nii.gz')\n",
    "\n",
    "    train_label = train_data[['Label']]\n",
    "    train_features = train_data.iloc[:,:-2]\n",
    "    train_label_and_path = train_data[['Name','Label']]\n",
    "    train_label_and_path['Name'] = train_label_and_path['Name'].apply(lambda x: x + '.nii.gz')\n",
    "\n",
    "    rf_model = load(f'F:\\Myproject\\IPMN-Radiomics-Plus-Deeplearning\\RFmodels\\RF_{fold}.joblib')\n",
    "    densenet = DenseNet121(\n",
    "            spatial_dims=3,  # 3D input\n",
    "            in_channels=1,   # Typically for grayscale (e.g., MRI/CT scans), change to 3 for RGB\n",
    "            out_channels=2   # Adjust for binary or multi-class segmentation/classification\n",
    "        )\n",
    "    densenet.load_state_dict(torch.load(f'./weights/fold{fold}_best_auc_model.pth', map_location='cpu', weights_only=True))\n",
    "    densenet.to('cuda')\n",
    "    data_dir  = r\"D:\\DATASET\\IPMN_t2_cyst\\ROI\"\n",
    "    transforms = Compose([ScaleIntensity(), EnsureChannelFirst(), Resize((96, 96, 96))])\n",
    "    test_ds = ImageDataset(image_files=[os.path.join(data_dir,name) for name in test_label_and_path['Name'].to_list()], labels=test_label_and_path['Label'].to_list(), transform=transforms)\n",
    "    test_dataloader = DataLoader(test_ds, batch_size=1, shuffle=False,num_workers=1)\n",
    "\n",
    "    train_ds = ImageDataset(image_files=[os.path.join(data_dir,name) for name in train_label_and_path['Name'].to_list()], labels=train_label_and_path['Label'].to_list(), transform=transforms)\n",
    "    train_dataloader = DataLoader(train_ds, batch_size=1, shuffle=False,num_workers=1)\n",
    "\n",
    "    fusion_model = train_fusion_model(densenet_model = densenet, rf_model = rf_model, image_dataloader = train_dataloader,radiomics_data = train_features,labels=train_label)\n",
    "    final_prediction,final_proba = predict_with_fusion_model(densenet_model=densenet,rf_model=rf_model,fusion_model=fusion_model, \n",
    "                            image_dataloader=test_dataloader, radiomics_data=test_features)\n",
    "\n",
    "    accuracy = accuracy_score(test_label,final_prediction)\n",
    "    print(f'Accuracy: {accuracy:.4f}')\n",
    "    auc_score = roc_auc_score(test_label,final_proba[:,1])\n",
    "    print(f'AUC Score: {auc_score:.4f}')\n",
    "    recall = recall_score(test_label, final_prediction)\n",
    "    print(f'Recall Score: {recall:.4f}')\n",
    "    precision = precision_score(test_label,final_prediction)\n",
    "    print(f'Recall Score: {precision:.4f}')\n",
    "\n",
    "    test_acc_list.append(accuracy)\n",
    "    test_auc_list.append(auc_score)\n",
    "    test_recall_list.append(recall)\n",
    "    test_precision_list.append(precision)"
   ]
  },
  {
   "cell_type": "code",
   "execution_count": 50,
   "metadata": {},
   "outputs": [
    {
     "name": "stdout",
     "output_type": "stream",
     "text": [
      "Test set\n",
      "Recall, Average:0.2391, Std:0.1622\n",
      "precision, Average:0.7425, Std:0.1808\n",
      "Accuracy, Average:0.6472, Std:0.0470\n",
      "AUC, Average:0.7103, Std:0.0724\n",
      "================================================\n"
     ]
    }
   ],
   "source": [
    "\n",
    "print(\"Test set\")\n",
    "get_results(test_acc_list,test_auc_list,test_recall_list,test_precision_list)\n",
    "print('================================================')"
   ]
  }
 ],
 "metadata": {
  "kernelspec": {
   "display_name": "monai",
   "language": "python",
   "name": "python3"
  },
  "language_info": {
   "codemirror_mode": {
    "name": "ipython",
    "version": 3
   },
   "file_extension": ".py",
   "mimetype": "text/x-python",
   "name": "python",
   "nbconvert_exporter": "python",
   "pygments_lexer": "ipython3",
   "version": "3.10.15"
  }
 },
 "nbformat": 4,
 "nbformat_minor": 2
}

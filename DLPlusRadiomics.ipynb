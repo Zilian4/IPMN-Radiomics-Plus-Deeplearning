{
 "cells": [
  {
   "cell_type": "code",
   "execution_count": 1,
   "metadata": {},
   "outputs": [
    {
     "name": "stderr",
     "output_type": "stream",
     "text": [
      "C:\\Users\\sugar\\AppData\\Local\\Temp\\ipykernel_12468\\2607817645.py:1: DeprecationWarning: \n",
      "Pyarrow will become a required dependency of pandas in the next major release of pandas (pandas 3.0),\n",
      "(to allow more performant data types, such as the Arrow string type, and better interoperability with other libraries)\n",
      "but was not found to be installed on your system.\n",
      "If this would cause problems for you,\n",
      "please provide us feedback at https://github.com/pandas-dev/pandas/issues/54466\n",
      "        \n",
      "  import pandas as pd\n"
     ]
    }
   ],
   "source": [
    "import pandas as pd\n",
    "from sklearn.preprocessing import MinMaxScaler, StandardScaler\n",
    "import pandas as pd\n",
    "from sklearn.model_selection import train_test_split\n",
    "from sklearn.ensemble import RandomForestClassifier\n",
    "from sklearn.metrics import accuracy_score,roc_auc_score,classification_report,recall_score,precision_score\n",
    "from sklearn.svm import SVC\n",
    "import numpy as np\n",
    "from sklearn.model_selection import KFold\n",
    "from utils.eval import get_results\n",
    "import json\n",
    "from monai.networks.nets import DenseNet121\n",
    "import torch\n",
    "from monai.data import DataLoader, ImageDataset\n",
    "from monai.transforms import RandRotate90, Resize, EnsureChannelFirst, Compose, ScaleIntensity,RandAxisFlip\n",
    "import os\n",
    "from tqdm import tqdm"
   ]
  },
  {
   "cell_type": "markdown",
   "metadata": {},
   "source": [
    "Load Random forest model "
   ]
  },
  {
   "cell_type": "code",
   "execution_count": 3,
   "metadata": {},
   "outputs": [],
   "source": [
    "# Get features\n",
    "features_2d = pd.read_csv('./Data/2D_t2/all.csv')\n",
    "data = features_2d.drop(columns=['Center'])\n",
    "correlation = data.iloc[:,2:].corr(method='spearman')\n",
    "selected_features = correlation[(correlation.abs() <= 0.6) | (correlation.abs() == 1)]\n",
    "for i in range(200):\n",
    "    for index in range(selected_features.shape[0]):\n",
    "        row = selected_features.iloc[index]\n",
    "        to_drop = row[row.isna()].index\n",
    "        selected_features_c_droped = selected_features.drop(labels=to_drop,axis=0)\n",
    "        selected_features_r_droped = selected_features_c_droped.drop(labels=to_drop,axis=1)\n",
    "        if selected_features_r_droped.shape[0]<selected_features.shape[0]:\n",
    "            break\n",
    "    selected_features = selected_features_r_droped\n",
    "selected_data = data[selected_features.index.to_list()+['Label','Name']]"
   ]
  },
  {
   "cell_type": "markdown",
   "metadata": {},
   "source": [
    "Organize label"
   ]
  },
  {
   "cell_type": "code",
   "execution_count": 4,
   "metadata": {},
   "outputs": [
    {
     "name": "stderr",
     "output_type": "stream",
     "text": [
      "C:\\Users\\sugar\\AppData\\Local\\Temp\\ipykernel_12468\\1549703430.py:1: SettingWithCopyWarning: \n",
      "A value is trying to be set on a copy of a slice from a DataFrame.\n",
      "Try using .loc[row_indexer,col_indexer] = value instead\n",
      "\n",
      "See the caveats in the documentation: https://pandas.pydata.org/pandas-docs/stable/user_guide/indexing.html#returning-a-view-versus-a-copy\n",
      "  selected_data['Label'] = selected_data['Label'].apply(lambda x: x-1)\n"
     ]
    }
   ],
   "source": [
    "selected_data['Label'] = selected_data['Label'].apply(lambda x: x-1)"
   ]
  },
  {
   "cell_type": "markdown",
   "metadata": {},
   "source": [
    "Read radiomics data"
   ]
  },
  {
   "cell_type": "code",
   "execution_count": null,
   "metadata": {},
   "outputs": [],
   "source": [
    "with open(\"Fold_data.json\", \"r\") as file:\n",
    "    fold_data = json.load(file)\n",
    "# Radiomics features for training and testing\n",
    "train_list = fold_data['Fold1']['train']\n",
    "test_list = fold_data['Fold1']['test']\n",
    "train_data = selected_data[selected_data[\"Name\"].isin(train_list)]\n",
    "test_data = selected_data[selected_data[\"Name\"].isin(test_list)]\n",
    "\n",
    "# test label for \n",
    "test_label_and_path = test_data[['Name','Label']]\n",
    "test_label_and_path['Name'] = test_label_and_path['Name'].apply(lambda x: x + '.nii.gz')"
   ]
  },
  {
   "cell_type": "markdown",
   "metadata": {},
   "source": [
    "Fit random forest"
   ]
  },
  {
   "cell_type": "markdown",
   "metadata": {},
   "source": [
    "Load DenseNet121"
   ]
  },
  {
   "cell_type": "code",
   "execution_count": null,
   "metadata": {},
   "outputs": [
    {
     "name": "stderr",
     "output_type": "stream",
     "text": [
      "C:\\Users\\sugar\\AppData\\Local\\Temp\\ipykernel_18656\\1218906158.py:2: SettingWithCopyWarning: \n",
      "A value is trying to be set on a copy of a slice from a DataFrame.\n",
      "Try using .loc[row_indexer,col_indexer] = value instead\n",
      "\n",
      "See the caveats in the documentation: https://pandas.pydata.org/pandas-docs/stable/user_guide/indexing.html#returning-a-view-versus-a-copy\n",
      "  test_label_and_path['Name'] = test_label_and_path['Name'].apply(lambda x: x + '.nii.gz')\n"
     ]
    }
   ],
   "source": [
    "test_label_and_path = test_data[['Name','Label']]\n",
    "test_label_and_path['Name'] = test_label_and_path['Name'].apply(lambda x: x + '.nii.gz')"
   ]
  },
  {
   "cell_type": "code",
   "execution_count": null,
   "metadata": {},
   "outputs": [],
   "source": [
    "\n",
    "\n",
    "model = DenseNet121(\n",
    "        spatial_dims=3,  # 3D input\n",
    "        in_channels=1,   # Typically for grayscale (e.g., MRI/CT scans), change to 3 for RGB\n",
    "        out_channels=2   # Adjust for binary or multi-class segmentation/classification\n",
    "    )\n",
    "model.load_state_dict(torch.load('./weights/fold1_best_auc_model.pth', map_location='cpu', weights_only=True))\n",
    "model.to('cuda')\n",
    "data_dir  = r\"D:\\DATASET\\IPMN_t2_cyst\\ROI\"\n",
    "test_transforms = Compose([ScaleIntensity(), EnsureChannelFirst(), Resize((96, 96, 96))])\n",
    "\n",
    "test_ds = ImageDataset(image_files=[os.path.join(data_dir,name) for name in test_label_and_path['Name'].to_list()], labels=test_label_and_path['Label'].to_list(), transform=test_transforms)\n",
    "test_dataloader = DataLoader(test_ds, batch_size=1, shuffle=False,num_workers=1)"
   ]
  },
  {
   "cell_type": "code",
   "execution_count": 14,
   "metadata": {},
   "outputs": [
    {
     "ename": "NameError",
     "evalue": "name 'test_dataloader' is not defined",
     "output_type": "error",
     "traceback": [
      "\u001b[1;31m---------------------------------------------------------------------------\u001b[0m",
      "\u001b[1;31mNameError\u001b[0m                                 Traceback (most recent call last)",
      "Cell \u001b[1;32mIn[14], line 2\u001b[0m\n\u001b[0;32m      1\u001b[0m \u001b[38;5;28;01mwith\u001b[39;00m torch\u001b[38;5;241m.\u001b[39mno_grad(): \n\u001b[1;32m----> 2\u001b[0m     progress_bar \u001b[38;5;241m=\u001b[39m tqdm(\u001b[43mtest_dataloader\u001b[49m, desc\u001b[38;5;241m=\u001b[39m\u001b[38;5;124m\"\u001b[39m\u001b[38;5;124mTesting\u001b[39m\u001b[38;5;124m\"\u001b[39m)\n\u001b[0;32m      3\u001b[0m     \u001b[38;5;28;01mfor\u001b[39;00m X, y \u001b[38;5;129;01min\u001b[39;00m progress_bar:\n\u001b[0;32m      4\u001b[0m         X \u001b[38;5;241m=\u001b[39m X\u001b[38;5;241m.\u001b[39mto(\u001b[38;5;124m'\u001b[39m\u001b[38;5;124mcuda\u001b[39m\u001b[38;5;124m'\u001b[39m)\n",
      "\u001b[1;31mNameError\u001b[0m: name 'test_dataloader' is not defined"
     ]
    }
   ],
   "source": [
    "\n",
    "with torch.no_grad(): \n",
    "    progress_bar = tqdm(test_dataloader, desc=\"Testing\")\n",
    "    for X, y in progress_bar:\n",
    "        X = X.to('cuda')\n",
    "        pred = model(X)\n",
    "        print(torch.nn.functional.softmax(pred, dim=-1).cpu().numpy())"
   ]
  }
 ],
 "metadata": {
  "kernelspec": {
   "display_name": "monai",
   "language": "python",
   "name": "python3"
  },
  "language_info": {
   "codemirror_mode": {
    "name": "ipython",
    "version": 3
   },
   "file_extension": ".py",
   "mimetype": "text/x-python",
   "name": "python",
   "nbconvert_exporter": "python",
   "pygments_lexer": "ipython3",
   "version": "3.12.1"
  }
 },
 "nbformat": 4,
 "nbformat_minor": 2
}

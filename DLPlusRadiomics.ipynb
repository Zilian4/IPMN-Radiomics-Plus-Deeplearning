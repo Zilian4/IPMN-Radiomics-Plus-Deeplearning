{
 "cells": [
  {
   "cell_type": "code",
   "execution_count": 67,
   "metadata": {},
   "outputs": [],
   "source": [
    "import pandas as pd\n",
    "from sklearn.preprocessing import MinMaxScaler, StandardScaler\n",
    "import pandas as pd\n",
    "from sklearn.model_selection import train_test_split\n",
    "from sklearn.ensemble import RandomForestClassifier\n",
    "from sklearn.metrics import accuracy_score,roc_auc_score,classification_report,recall_score,precision_score\n",
    "from sklearn.svm import SVC\n",
    "import numpy as np\n",
    "from sklearn.model_selection import KFold\n",
    "from utils.eval import get_results\n",
    "import json\n",
    "from monai.networks.nets import DenseNet121\n",
    "import torch\n",
    "from monai.data import DataLoader, ImageDataset\n",
    "from monai.transforms import RandRotate90, Resize, EnsureChannelFirst, Compose, ScaleIntensity,RandAxisFlip\n",
    "import os\n",
    "from tqdm import tqdm"
   ]
  },
  {
   "cell_type": "markdown",
   "metadata": {},
   "source": [
    "Load Random forest model "
   ]
  },
  {
   "cell_type": "code",
   "execution_count": 14,
   "metadata": {},
   "outputs": [],
   "source": [
    "# Get features\n",
    "features_2d = pd.read_csv('./Data/2D_t2/all.csv')\n",
    "data = features_2d.drop(columns=['Center'])\n",
    "correlation = data.iloc[:,2:].corr(method='spearman')\n",
    "selected_features = correlation[(correlation.abs() <= 0.6) | (correlation.abs() == 1)]\n",
    "for i in range(200):\n",
    "    for index in range(selected_features.shape[0]):\n",
    "        row = selected_features.iloc[index]\n",
    "        to_drop = row[row.isna()].index\n",
    "        selected_features_c_droped = selected_features.drop(labels=to_drop,axis=0)\n",
    "        selected_features_r_droped = selected_features_c_droped.drop(labels=to_drop,axis=1)\n",
    "        if selected_features_r_droped.shape[0]<selected_features.shape[0]:\n",
    "            break\n",
    "    selected_features = selected_features_r_droped\n",
    "selected_data = data[selected_features.index.to_list()+['Label','Name']]"
   ]
  },
  {
   "cell_type": "markdown",
   "metadata": {},
   "source": [
    "Organize label"
   ]
  },
  {
   "cell_type": "code",
   "execution_count": null,
   "metadata": {},
   "outputs": [],
   "source": [
    "selected_data['Label'] = selected_data['Label'].apply(lambda x: x-1)"
   ]
  },
  {
   "cell_type": "markdown",
   "metadata": {},
   "source": [
    "Read data"
   ]
  },
  {
   "cell_type": "code",
   "execution_count": 44,
   "metadata": {},
   "outputs": [],
   "source": [
    "with open(\"Fold_data.json\", \"r\") as file:\n",
    "    fold_data = json.load(file)\n",
    "train_list = fold_data['Fold1']['train']\n",
    "test_list = fold_data['Fold1']['test']\n",
    "train_data = selected_data[selected_data[\"Name\"].isin(train_list)]\n",
    "test_data = selected_data[selected_data[\"Name\"].isin(test_list)]"
   ]
  },
  {
   "cell_type": "markdown",
   "metadata": {},
   "source": [
    "Load DenseNet121"
   ]
  },
  {
   "cell_type": "code",
   "execution_count": 59,
   "metadata": {},
   "outputs": [
    {
     "name": "stderr",
     "output_type": "stream",
     "text": [
      "C:\\Users\\sugar\\AppData\\Local\\Temp\\ipykernel_18656\\1218906158.py:2: SettingWithCopyWarning: \n",
      "A value is trying to be set on a copy of a slice from a DataFrame.\n",
      "Try using .loc[row_indexer,col_indexer] = value instead\n",
      "\n",
      "See the caveats in the documentation: https://pandas.pydata.org/pandas-docs/stable/user_guide/indexing.html#returning-a-view-versus-a-copy\n",
      "  test_label_and_path['Name'] = test_label_and_path['Name'].apply(lambda x: x + '.nii.gz')\n"
     ]
    }
   ],
   "source": [
    "test_label_and_path = test_data[['Name','Label']]\n",
    "test_label_and_path['Name'] = test_label_and_path['Name'].apply(lambda x: x + '.nii.gz')"
   ]
  },
  {
   "cell_type": "code",
   "execution_count": 89,
   "metadata": {},
   "outputs": [],
   "source": [
    "model = DenseNet121(\n",
    "        spatial_dims=3,  # 3D input\n",
    "        in_channels=1,   # Typically for grayscale (e.g., MRI/CT scans), change to 3 for RGB\n",
    "        out_channels=2   # Adjust for binary or multi-class segmentation/classification\n",
    "    )\n",
    "model.load_state_dict(torch.load('./weights/fold1_best_auc_model.pth', map_location='cpu', weights_only=True))\n",
    "model.to('cuda')\n",
    "data_dir  = r\"D:\\DATASET\\IPMN_t2_cyst\\ROI\"\n",
    "test_transforms = Compose([ScaleIntensity(), EnsureChannelFirst(), Resize((96, 96, 96))])\n",
    "test_ds = ImageDataset(image_files=[os.path.join(data_dir,name) for name in test_label_and_path['Name'].to_list()], labels=test_label_and_path['Label'].to_list(), transform=test_transforms)\n",
    "test_dataloader = DataLoader(test_ds, batch_size=1, shuffle=False,num_workers=1)"
   ]
  },
  {
   "cell_type": "code",
   "execution_count": null,
   "metadata": {},
   "outputs": [
    {
     "name": "stderr",
     "output_type": "stream",
     "text": [
      "Testing:   6%|▌         | 4/67 [00:04<00:52,  1.20it/s]"
     ]
    },
    {
     "name": "stdout",
     "output_type": "stream",
     "text": [
      "[[0.29357967 0.7064203 ]]\n",
      "[[0.29043764 0.70956236]]\n",
      "[[0.3034056  0.69659436]]\n",
      "[[0.300858   0.69914204]]\n",
      "[[0.29462793 0.7053721 ]]\n"
     ]
    },
    {
     "name": "stderr",
     "output_type": "stream",
     "text": [
      "Testing:  12%|█▏        | 8/67 [00:04<00:19,  3.09it/s]"
     ]
    },
    {
     "name": "stdout",
     "output_type": "stream",
     "text": [
      "[[0.29307303 0.70692694]]\n",
      "[[0.2960248 0.7039752]]\n",
      "[[0.29906562 0.70093435]]\n",
      "[[0.28334036 0.7166596 ]]\n",
      "[[0.29237732 0.7076227 ]]\n"
     ]
    },
    {
     "name": "stderr",
     "output_type": "stream",
     "text": [
      "Testing:  21%|██        | 14/67 [00:04<00:07,  7.26it/s]"
     ]
    },
    {
     "name": "stdout",
     "output_type": "stream",
     "text": [
      "[[0.29260185 0.7073981 ]]\n",
      "[[0.2911219 0.7088781]]\n",
      "[[0.29318857 0.70681137]]\n",
      "[[0.2968329  0.70316714]]\n",
      "[[0.2933376 0.7066624]]\n"
     ]
    },
    {
     "name": "stderr",
     "output_type": "stream",
     "text": [
      "Testing:  30%|██▉       | 20/67 [00:05<00:03, 11.76it/s]"
     ]
    },
    {
     "name": "stdout",
     "output_type": "stream",
     "text": [
      "[[0.29149216 0.70850784]]\n",
      "[[0.29781982 0.70218015]]\n",
      "[[0.311966 0.688034]]\n",
      "[[0.2934325  0.70656747]]\n",
      "[[0.30039307 0.69960696]]\n"
     ]
    },
    {
     "name": "stderr",
     "output_type": "stream",
     "text": [
      "Testing:  34%|███▍      | 23/67 [00:05<00:03, 14.00it/s]"
     ]
    },
    {
     "name": "stdout",
     "output_type": "stream",
     "text": [
      "[[0.30351582 0.6964842 ]]\n",
      "[[0.29808295 0.70191705]]\n",
      "[[0.30309978 0.6969002 ]]\n",
      "[[0.29604957 0.70395046]]\n",
      "[[0.2912838 0.7087162]]\n"
     ]
    },
    {
     "name": "stderr",
     "output_type": "stream",
     "text": [
      "Testing:  43%|████▎     | 29/67 [00:05<00:02, 16.87it/s]"
     ]
    },
    {
     "name": "stdout",
     "output_type": "stream",
     "text": [
      "[[0.29550207 0.7044979 ]]\n",
      "[[0.28946972 0.7105303 ]]\n",
      "[[0.28797895 0.71202105]]\n",
      "[[0.29046866 0.7095313 ]]\n",
      "[[0.2990722 0.7009278]]\n"
     ]
    },
    {
     "name": "stderr",
     "output_type": "stream",
     "text": [
      "Testing:  48%|████▊     | 32/67 [00:05<00:01, 17.88it/s]"
     ]
    },
    {
     "name": "stdout",
     "output_type": "stream",
     "text": [
      "[[0.29565832 0.7043417 ]]\n",
      "[[0.2927567 0.7072433]]\n",
      "[[0.2973358  0.70266426]]\n",
      "[[0.28591236 0.7140876 ]]\n"
     ]
    },
    {
     "name": "stderr",
     "output_type": "stream",
     "text": [
      "Testing:  57%|█████▋    | 38/67 [00:05<00:01, 19.75it/s]"
     ]
    },
    {
     "name": "stdout",
     "output_type": "stream",
     "text": [
      "[[0.29477143 0.70522857]]\n",
      "[[0.2923688 0.7076312]]\n",
      "[[0.29414472 0.7058553 ]]\n",
      "[[0.29433554 0.70566446]]\n",
      "[[0.2927827  0.70721734]]\n"
     ]
    },
    {
     "name": "stderr",
     "output_type": "stream",
     "text": [
      "Testing:  66%|██████▌   | 44/67 [00:06<00:01, 20.93it/s]"
     ]
    },
    {
     "name": "stdout",
     "output_type": "stream",
     "text": [
      "[[0.28915197 0.71084803]]\n",
      "[[0.29299253 0.70700747]]\n",
      "[[0.3055187 0.6944813]]\n",
      "[[0.3019181 0.6980819]]\n",
      "[[0.2906806  0.70931935]]\n"
     ]
    },
    {
     "name": "stderr",
     "output_type": "stream",
     "text": [
      "Testing:  70%|███████   | 47/67 [00:06<00:00, 20.71it/s]"
     ]
    },
    {
     "name": "stdout",
     "output_type": "stream",
     "text": [
      "[[0.2860175  0.71398246]]\n",
      "[[0.30540997 0.69459003]]\n",
      "[[0.29091585 0.7090842 ]]\n",
      "[[0.30200756 0.69799244]]\n",
      "[[0.29541314 0.70458686]]\n"
     ]
    },
    {
     "name": "stderr",
     "output_type": "stream",
     "text": [
      "Testing:  79%|███████▉  | 53/67 [00:06<00:00, 20.92it/s]"
     ]
    },
    {
     "name": "stdout",
     "output_type": "stream",
     "text": [
      "[[0.28623986 0.71376014]]\n",
      "[[0.29745683 0.7025432 ]]\n",
      "[[0.2954802  0.70451987]]\n",
      "[[0.28950426 0.71049577]]\n",
      "[[0.29894903 0.70105094]]\n"
     ]
    },
    {
     "name": "stderr",
     "output_type": "stream",
     "text": [
      "Testing:  88%|████████▊ | 59/67 [00:06<00:00, 21.23it/s]"
     ]
    },
    {
     "name": "stdout",
     "output_type": "stream",
     "text": [
      "[[0.28702286 0.7129771 ]]\n",
      "[[0.27896306 0.721037  ]]\n",
      "[[0.29118833 0.7088117 ]]\n",
      "[[0.2879287 0.7120713]]\n",
      "[[0.29157567 0.7084243 ]]\n"
     ]
    },
    {
     "name": "stderr",
     "output_type": "stream",
     "text": [
      "Testing:  93%|█████████▎| 62/67 [00:07<00:00, 21.64it/s]"
     ]
    },
    {
     "name": "stdout",
     "output_type": "stream",
     "text": [
      "[[0.29100677 0.70899326]]\n",
      "[[0.28858793 0.7114121 ]]\n",
      "[[0.29630297 0.7036971 ]]\n",
      "[[0.29112586 0.7088741 ]]\n",
      "[[0.2891667 0.7108333]]\n"
     ]
    },
    {
     "name": "stderr",
     "output_type": "stream",
     "text": [
      "Testing:  97%|█████████▋| 65/67 [00:07<00:00, 21.71it/s]"
     ]
    },
    {
     "name": "stdout",
     "output_type": "stream",
     "text": [
      "[[0.29891288 0.7010872 ]]\n",
      "[[0.28705558 0.7129444 ]]\n",
      "[[0.30188313 0.69811684]]\n"
     ]
    },
    {
     "name": "stderr",
     "output_type": "stream",
     "text": [
      "Testing: 100%|██████████| 67/67 [00:07<00:00,  8.53it/s]\n"
     ]
    }
   ],
   "source": [
    "\n",
    "with torch.no_grad(): \n",
    "    progress_bar = tqdm(test_dataloader, desc=\"Testing\")\n",
    "    for X, y in progress_bar:\n",
    "        X = X.to('cuda')\n",
    "        pred = model(X)\n",
    "        print(torch.nn.functional.softmax(pred, dim=-1).cpu().numpy())"
   ]
  }
 ],
 "metadata": {
  "kernelspec": {
   "display_name": "monai",
   "language": "python",
   "name": "python3"
  },
  "language_info": {
   "codemirror_mode": {
    "name": "ipython",
    "version": 3
   },
   "file_extension": ".py",
   "mimetype": "text/x-python",
   "name": "python",
   "nbconvert_exporter": "python",
   "pygments_lexer": "ipython3",
   "version": "3.12.1"
  }
 },
 "nbformat": 4,
 "nbformat_minor": 2
}

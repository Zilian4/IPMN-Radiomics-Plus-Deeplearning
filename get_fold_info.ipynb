{
 "cells": [
  {
   "cell_type": "code",
   "execution_count": 30,
   "metadata": {},
   "outputs": [],
   "source": [
    "import os\n",
    "import json\n",
    "fold_dict = {}\n",
    "folds_path = r\"D:\\DATASET\\IPMN_t2_cyst\\FOLDS\"\n"
   ]
  },
  {
   "cell_type": "code",
   "execution_count": 31,
   "metadata": {},
   "outputs": [],
   "source": [
    "def list_all_files(dir_path):\n",
    "    # 遍历目录树\n",
    "    file_list = []\n",
    "    for root, dirs, files in os.walk(dir_path):\n",
    "        for file in files:\n",
    "            # 拼接文件完整路径\n",
    "            if file.endswith('.nii.gz'):\n",
    "                file_list.append(file.split('.nii.gz')[0]) \n",
    "    return file_list"
   ]
  },
  {
   "cell_type": "code",
   "execution_count": 32,
   "metadata": {},
   "outputs": [],
   "source": [
    "for fold in os.listdir(folds_path):\n",
    "    path = os.path.join(folds_path,fold)\n",
    "    train_list = list_all_files(os.path.join(path,'train'))\n",
    "    test_list = list_all_files(os.path.join(path,'test'))\n",
    "    fold_dict[fold] = {'train':train_list,'test':test_list}"
   ]
  },
  {
   "cell_type": "code",
   "execution_count": 33,
   "metadata": {},
   "outputs": [],
   "source": [
    "with open('Fold_data.json', 'w') as f:\n",
    "        json.dump(fold_dict, f, indent=4)"
   ]
  }
 ],
 "metadata": {
  "kernelspec": {
   "display_name": "monai",
   "language": "python",
   "name": "python3"
  },
  "language_info": {
   "codemirror_mode": {
    "name": "ipython",
    "version": 3
   },
   "file_extension": ".py",
   "mimetype": "text/x-python",
   "name": "python",
   "nbconvert_exporter": "python",
   "pygments_lexer": "ipython3",
   "version": "3.12.1"
  }
 },
 "nbformat": 4,
 "nbformat_minor": 2
}
